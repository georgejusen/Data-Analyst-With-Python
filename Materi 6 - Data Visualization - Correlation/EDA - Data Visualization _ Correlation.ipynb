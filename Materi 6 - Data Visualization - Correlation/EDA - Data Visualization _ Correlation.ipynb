{
 "cells": [
  {
   "attachments": {},
   "cell_type": "markdown",
   "id": "c98e0752",
   "metadata": {},
   "source": [
    "# Impor packages\n"
   ]
  },
  {
   "cell_type": "code",
   "execution_count": 17,
   "id": "9e69ab8b",
   "metadata": {
    "ExecuteTime": {
     "end_time": "2022-10-09T09:26:37.053251Z",
     "start_time": "2022-10-09T09:26:33.994854Z"
    },
    "execution": {
     "iopub.execute_input": "2022-10-27T09:59:58.869535Z",
     "iopub.status.busy": "2022-10-27T09:59:58.868505Z",
     "iopub.status.idle": "2022-10-27T09:59:59.005460Z",
     "shell.execute_reply": "2022-10-27T09:59:58.966908Z",
     "shell.execute_reply.started": "2022-10-27T09:59:58.869456Z"
    },
    "tags": []
   },
   "outputs": [],
   "source": [
    "# pip install pandas\n",
    "# pip install numpy\n",
    "# #pip install datetime\n",
    "import pandas as pd\n",
    "import numpy as np\n",
    "import datetime as dt"
   ]
  },
  {
   "cell_type": "code",
   "execution_count": 2,
   "id": "13eca110",
   "metadata": {
    "ExecuteTime": {
     "end_time": "2022-10-09T09:31:34.277420Z",
     "start_time": "2022-10-09T09:31:34.262791Z"
    },
    "execution": {
     "iopub.execute_input": "2022-10-27T09:59:59.804254Z",
     "iopub.status.busy": "2022-10-27T09:59:59.797998Z",
     "iopub.status.idle": "2022-10-27T09:59:59.924228Z",
     "shell.execute_reply": "2022-10-27T09:59:59.913024Z",
     "shell.execute_reply.started": "2022-10-27T09:59:59.804208Z"
    },
    "tags": []
   },
   "outputs": [
    {
     "data": {
      "text/plain": [
       "'f:\\\\File Kuliah\\\\#3 MySkill.id - Data Analyst With Python\\\\Materi 6'"
      ]
     },
     "execution_count": 2,
     "metadata": {},
     "output_type": "execute_result"
    }
   ],
   "source": [
    "import os\n",
    "os.getcwd()"
   ]
  },
  {
   "attachments": {},
   "cell_type": "markdown",
   "id": "e8ab0dc7-7a11-4ce0-86c0-0905142c44ae",
   "metadata": {},
   "source": [
    "# Impor data dari CSV ke DataFrame\n"
   ]
  },
  {
   "cell_type": "code",
   "execution_count": 19,
   "id": "9c7563ab-df4d-4ee4-a04b-39cb5dfecac6",
   "metadata": {
    "execution": {
     "iopub.execute_input": "2022-10-27T10:00:04.545777Z",
     "iopub.status.busy": "2022-10-27T10:00:04.545528Z",
     "iopub.status.idle": "2022-10-27T10:00:05.481288Z",
     "shell.execute_reply": "2022-10-27T10:00:05.476468Z",
     "shell.execute_reply.started": "2022-10-27T10:00:04.545756Z"
    },
    "tags": []
   },
   "outputs": [
    {
     "data": {
      "text/html": [
       "<div>\n",
       "<style scoped>\n",
       "    .dataframe tbody tr th:only-of-type {\n",
       "        vertical-align: middle;\n",
       "    }\n",
       "\n",
       "    .dataframe tbody tr th {\n",
       "        vertical-align: top;\n",
       "    }\n",
       "\n",
       "    .dataframe thead th {\n",
       "        text-align: right;\n",
       "    }\n",
       "</style>\n",
       "<table border=\"1\" class=\"dataframe\">\n",
       "  <thead>\n",
       "    <tr style=\"text-align: right;\">\n",
       "      <th></th>\n",
       "      <th>order_id</th>\n",
       "      <th>product_code</th>\n",
       "      <th>product_name</th>\n",
       "      <th>quantity</th>\n",
       "      <th>order_date</th>\n",
       "      <th>price</th>\n",
       "      <th>customer_id</th>\n",
       "    </tr>\n",
       "  </thead>\n",
       "  <tbody>\n",
       "    <tr>\n",
       "      <th>0</th>\n",
       "      <td>493410</td>\n",
       "      <td>TEST001</td>\n",
       "      <td>This is a test product.</td>\n",
       "      <td>5</td>\n",
       "      <td>2010-01-04 09:24:00</td>\n",
       "      <td>4.50</td>\n",
       "      <td>12346.0</td>\n",
       "    </tr>\n",
       "    <tr>\n",
       "      <th>1</th>\n",
       "      <td>C493411</td>\n",
       "      <td>21539</td>\n",
       "      <td>RETRO SPOTS BUTTER DISH</td>\n",
       "      <td>-1</td>\n",
       "      <td>2010-01-04 09:43:00</td>\n",
       "      <td>4.25</td>\n",
       "      <td>14590.0</td>\n",
       "    </tr>\n",
       "    <tr>\n",
       "      <th>2</th>\n",
       "      <td>493412</td>\n",
       "      <td>TEST001</td>\n",
       "      <td>This is a test product.</td>\n",
       "      <td>5</td>\n",
       "      <td>2010-01-04 09:53:00</td>\n",
       "      <td>4.50</td>\n",
       "      <td>12346.0</td>\n",
       "    </tr>\n",
       "    <tr>\n",
       "      <th>3</th>\n",
       "      <td>493413</td>\n",
       "      <td>21724</td>\n",
       "      <td>PANDA AND BUNNIES STICKER SHEET</td>\n",
       "      <td>1</td>\n",
       "      <td>2010-01-04 09:54:00</td>\n",
       "      <td>0.85</td>\n",
       "      <td>NaN</td>\n",
       "    </tr>\n",
       "    <tr>\n",
       "      <th>4</th>\n",
       "      <td>493413</td>\n",
       "      <td>84578</td>\n",
       "      <td>ELEPHANT TOY WITH BLUE T-SHIRT</td>\n",
       "      <td>1</td>\n",
       "      <td>2010-01-04 09:54:00</td>\n",
       "      <td>3.75</td>\n",
       "      <td>NaN</td>\n",
       "    </tr>\n",
       "    <tr>\n",
       "      <th>...</th>\n",
       "      <td>...</td>\n",
       "      <td>...</td>\n",
       "      <td>...</td>\n",
       "      <td>...</td>\n",
       "      <td>...</td>\n",
       "      <td>...</td>\n",
       "      <td>...</td>\n",
       "    </tr>\n",
       "    <tr>\n",
       "      <th>461768</th>\n",
       "      <td>539991</td>\n",
       "      <td>21618</td>\n",
       "      <td>4 WILDFLOWER BOTANICAL CANDLES</td>\n",
       "      <td>1</td>\n",
       "      <td>2010-12-23 16:49:00</td>\n",
       "      <td>1.25</td>\n",
       "      <td>NaN</td>\n",
       "    </tr>\n",
       "    <tr>\n",
       "      <th>461769</th>\n",
       "      <td>539991</td>\n",
       "      <td>72741</td>\n",
       "      <td>GRAND CHOCOLATECANDLE</td>\n",
       "      <td>4</td>\n",
       "      <td>2010-12-23 16:49:00</td>\n",
       "      <td>1.45</td>\n",
       "      <td>NaN</td>\n",
       "    </tr>\n",
       "    <tr>\n",
       "      <th>461770</th>\n",
       "      <td>539992</td>\n",
       "      <td>21470</td>\n",
       "      <td>FLOWER VINE RAFFIA FOOD COVER</td>\n",
       "      <td>1</td>\n",
       "      <td>2010-12-23 17:41:00</td>\n",
       "      <td>3.75</td>\n",
       "      <td>NaN</td>\n",
       "    </tr>\n",
       "    <tr>\n",
       "      <th>461771</th>\n",
       "      <td>539992</td>\n",
       "      <td>22258</td>\n",
       "      <td>FELT FARM ANIMAL RABBIT</td>\n",
       "      <td>1</td>\n",
       "      <td>2010-12-23 17:41:00</td>\n",
       "      <td>1.25</td>\n",
       "      <td>NaN</td>\n",
       "    </tr>\n",
       "    <tr>\n",
       "      <th>461772</th>\n",
       "      <td>539992</td>\n",
       "      <td>21155</td>\n",
       "      <td>RED RETROSPOT PEG BAG</td>\n",
       "      <td>1</td>\n",
       "      <td>2010-12-23 17:41:00</td>\n",
       "      <td>2.10</td>\n",
       "      <td>NaN</td>\n",
       "    </tr>\n",
       "  </tbody>\n",
       "</table>\n",
       "<p>461773 rows × 7 columns</p>\n",
       "</div>"
      ],
      "text/plain": [
       "       order_id product_code                     product_name  quantity  \\\n",
       "0        493410      TEST001          This is a test product.         5   \n",
       "1       C493411        21539          RETRO SPOTS BUTTER DISH        -1   \n",
       "2        493412      TEST001          This is a test product.         5   \n",
       "3        493413        21724  PANDA AND BUNNIES STICKER SHEET         1   \n",
       "4        493413        84578   ELEPHANT TOY WITH BLUE T-SHIRT         1   \n",
       "...         ...          ...                              ...       ...   \n",
       "461768   539991        21618   4 WILDFLOWER BOTANICAL CANDLES         1   \n",
       "461769   539991        72741            GRAND CHOCOLATECANDLE         4   \n",
       "461770   539992        21470    FLOWER VINE RAFFIA FOOD COVER         1   \n",
       "461771   539992        22258          FELT FARM ANIMAL RABBIT         1   \n",
       "461772   539992        21155            RED RETROSPOT PEG BAG         1   \n",
       "\n",
       "                 order_date  price  customer_id  \n",
       "0       2010-01-04 09:24:00   4.50      12346.0  \n",
       "1       2010-01-04 09:43:00   4.25      14590.0  \n",
       "2       2010-01-04 09:53:00   4.50      12346.0  \n",
       "3       2010-01-04 09:54:00   0.85          NaN  \n",
       "4       2010-01-04 09:54:00   3.75          NaN  \n",
       "...                     ...    ...          ...  \n",
       "461768  2010-12-23 16:49:00   1.25          NaN  \n",
       "461769  2010-12-23 16:49:00   1.45          NaN  \n",
       "461770  2010-12-23 17:41:00   3.75          NaN  \n",
       "461771  2010-12-23 17:41:00   1.25          NaN  \n",
       "461772  2010-12-23 17:41:00   2.10          NaN  \n",
       "\n",
       "[461773 rows x 7 columns]"
      ]
     },
     "execution_count": 19,
     "metadata": {},
     "output_type": "execute_result"
    }
   ],
   "source": [
    "df = pd.read_csv('Salinan Online Retail Data.csv', header=0)\n",
    "df"
   ]
  },
  {
   "attachments": {},
   "cell_type": "markdown",
   "id": "bcb2db12-45f4-4394-9105-ae7eff18f8c7",
   "metadata": {},
   "source": [
    "# Data cleansing\n"
   ]
  },
  {
   "cell_type": "code",
   "execution_count": 6,
   "id": "3741ccdd-9a53-4f03-95cb-32c09495a815",
   "metadata": {
    "execution": {
     "iopub.execute_input": "2022-10-27T10:00:09.925944Z",
     "iopub.status.busy": "2022-10-27T10:00:09.925508Z",
     "iopub.status.idle": "2022-10-27T10:00:13.066542Z",
     "shell.execute_reply": "2022-10-27T10:00:13.065726Z",
     "shell.execute_reply.started": "2022-10-27T10:00:09.925909Z"
    },
    "tags": []
   },
   "outputs": [
    {
     "data": {
      "text/html": [
       "<div>\n",
       "<style scoped>\n",
       "    .dataframe tbody tr th:only-of-type {\n",
       "        vertical-align: middle;\n",
       "    }\n",
       "\n",
       "    .dataframe tbody tr th {\n",
       "        vertical-align: top;\n",
       "    }\n",
       "\n",
       "    .dataframe thead th {\n",
       "        text-align: right;\n",
       "    }\n",
       "</style>\n",
       "<table border=\"1\" class=\"dataframe\">\n",
       "  <thead>\n",
       "    <tr style=\"text-align: right;\">\n",
       "      <th></th>\n",
       "      <th>order_id</th>\n",
       "      <th>product_code</th>\n",
       "      <th>product_name</th>\n",
       "      <th>quantity</th>\n",
       "      <th>order_date</th>\n",
       "      <th>price</th>\n",
       "      <th>customer_id</th>\n",
       "      <th>date</th>\n",
       "      <th>order_status</th>\n",
       "      <th>amount</th>\n",
       "    </tr>\n",
       "  </thead>\n",
       "  <tbody>\n",
       "    <tr>\n",
       "      <th>0</th>\n",
       "      <td>C493411</td>\n",
       "      <td>21539</td>\n",
       "      <td>red retrospot butter dish</td>\n",
       "      <td>1</td>\n",
       "      <td>2010-01-04 09:43:00</td>\n",
       "      <td>4.25</td>\n",
       "      <td>14590.0</td>\n",
       "      <td>2010-01-04</td>\n",
       "      <td>cancelled</td>\n",
       "      <td>4.25</td>\n",
       "    </tr>\n",
       "    <tr>\n",
       "      <th>1</th>\n",
       "      <td>493413</td>\n",
       "      <td>21724</td>\n",
       "      <td>panda and bunnies sticker sheet</td>\n",
       "      <td>1</td>\n",
       "      <td>2010-01-04 09:54:00</td>\n",
       "      <td>0.85</td>\n",
       "      <td>nan</td>\n",
       "      <td>2010-01-04</td>\n",
       "      <td>delivered</td>\n",
       "      <td>0.85</td>\n",
       "    </tr>\n",
       "    <tr>\n",
       "      <th>2</th>\n",
       "      <td>493413</td>\n",
       "      <td>84578</td>\n",
       "      <td>elephant toy with blue t-shirt</td>\n",
       "      <td>1</td>\n",
       "      <td>2010-01-04 09:54:00</td>\n",
       "      <td>3.75</td>\n",
       "      <td>nan</td>\n",
       "      <td>2010-01-04</td>\n",
       "      <td>delivered</td>\n",
       "      <td>3.75</td>\n",
       "    </tr>\n",
       "    <tr>\n",
       "      <th>3</th>\n",
       "      <td>493413</td>\n",
       "      <td>21723</td>\n",
       "      <td>alphabet hearts sticker sheet</td>\n",
       "      <td>1</td>\n",
       "      <td>2010-01-04 09:54:00</td>\n",
       "      <td>0.85</td>\n",
       "      <td>nan</td>\n",
       "      <td>2010-01-04</td>\n",
       "      <td>delivered</td>\n",
       "      <td>0.85</td>\n",
       "    </tr>\n",
       "    <tr>\n",
       "      <th>4</th>\n",
       "      <td>493414</td>\n",
       "      <td>21844</td>\n",
       "      <td>red retrospot mug</td>\n",
       "      <td>36</td>\n",
       "      <td>2010-01-04 10:28:00</td>\n",
       "      <td>2.55</td>\n",
       "      <td>14590.0</td>\n",
       "      <td>2010-01-04</td>\n",
       "      <td>delivered</td>\n",
       "      <td>91.80</td>\n",
       "    </tr>\n",
       "    <tr>\n",
       "      <th>...</th>\n",
       "      <td>...</td>\n",
       "      <td>...</td>\n",
       "      <td>...</td>\n",
       "      <td>...</td>\n",
       "      <td>...</td>\n",
       "      <td>...</td>\n",
       "      <td>...</td>\n",
       "      <td>...</td>\n",
       "      <td>...</td>\n",
       "      <td>...</td>\n",
       "    </tr>\n",
       "    <tr>\n",
       "      <th>455491</th>\n",
       "      <td>539991</td>\n",
       "      <td>21618</td>\n",
       "      <td>4 wildflower botanical candles</td>\n",
       "      <td>1</td>\n",
       "      <td>2010-12-23 16:49:00</td>\n",
       "      <td>1.25</td>\n",
       "      <td>nan</td>\n",
       "      <td>2010-12-23</td>\n",
       "      <td>delivered</td>\n",
       "      <td>1.25</td>\n",
       "    </tr>\n",
       "    <tr>\n",
       "      <th>455492</th>\n",
       "      <td>539991</td>\n",
       "      <td>72741</td>\n",
       "      <td>grand chocolatecandle</td>\n",
       "      <td>4</td>\n",
       "      <td>2010-12-23 16:49:00</td>\n",
       "      <td>1.45</td>\n",
       "      <td>nan</td>\n",
       "      <td>2010-12-23</td>\n",
       "      <td>delivered</td>\n",
       "      <td>5.80</td>\n",
       "    </tr>\n",
       "    <tr>\n",
       "      <th>455493</th>\n",
       "      <td>539992</td>\n",
       "      <td>21470</td>\n",
       "      <td>flower vine raffia food cover</td>\n",
       "      <td>1</td>\n",
       "      <td>2010-12-23 17:41:00</td>\n",
       "      <td>3.75</td>\n",
       "      <td>nan</td>\n",
       "      <td>2010-12-23</td>\n",
       "      <td>delivered</td>\n",
       "      <td>3.75</td>\n",
       "    </tr>\n",
       "    <tr>\n",
       "      <th>455494</th>\n",
       "      <td>539992</td>\n",
       "      <td>22258</td>\n",
       "      <td>felt farm animal rabbit</td>\n",
       "      <td>1</td>\n",
       "      <td>2010-12-23 17:41:00</td>\n",
       "      <td>1.25</td>\n",
       "      <td>nan</td>\n",
       "      <td>2010-12-23</td>\n",
       "      <td>delivered</td>\n",
       "      <td>1.25</td>\n",
       "    </tr>\n",
       "    <tr>\n",
       "      <th>455495</th>\n",
       "      <td>539992</td>\n",
       "      <td>21155</td>\n",
       "      <td>red spotty peg bag</td>\n",
       "      <td>1</td>\n",
       "      <td>2010-12-23 17:41:00</td>\n",
       "      <td>2.10</td>\n",
       "      <td>nan</td>\n",
       "      <td>2010-12-23</td>\n",
       "      <td>delivered</td>\n",
       "      <td>2.10</td>\n",
       "    </tr>\n",
       "  </tbody>\n",
       "</table>\n",
       "<p>455496 rows × 10 columns</p>\n",
       "</div>"
      ],
      "text/plain": [
       "       order_id product_code                     product_name  quantity  \\\n",
       "0       C493411        21539        red retrospot butter dish         1   \n",
       "1        493413        21724  panda and bunnies sticker sheet         1   \n",
       "2        493413        84578   elephant toy with blue t-shirt         1   \n",
       "3        493413        21723    alphabet hearts sticker sheet         1   \n",
       "4        493414        21844                red retrospot mug        36   \n",
       "...         ...          ...                              ...       ...   \n",
       "455491   539991        21618   4 wildflower botanical candles         1   \n",
       "455492   539991        72741            grand chocolatecandle         4   \n",
       "455493   539992        21470    flower vine raffia food cover         1   \n",
       "455494   539992        22258          felt farm animal rabbit         1   \n",
       "455495   539992        21155               red spotty peg bag         1   \n",
       "\n",
       "                 order_date  price customer_id        date order_status  \\\n",
       "0       2010-01-04 09:43:00   4.25     14590.0  2010-01-04    cancelled   \n",
       "1       2010-01-04 09:54:00   0.85         nan  2010-01-04    delivered   \n",
       "2       2010-01-04 09:54:00   3.75         nan  2010-01-04    delivered   \n",
       "3       2010-01-04 09:54:00   0.85         nan  2010-01-04    delivered   \n",
       "4       2010-01-04 10:28:00   2.55     14590.0  2010-01-04    delivered   \n",
       "...                     ...    ...         ...         ...          ...   \n",
       "455491  2010-12-23 16:49:00   1.25         nan  2010-12-23    delivered   \n",
       "455492  2010-12-23 16:49:00   1.45         nan  2010-12-23    delivered   \n",
       "455493  2010-12-23 17:41:00   3.75         nan  2010-12-23    delivered   \n",
       "455494  2010-12-23 17:41:00   1.25         nan  2010-12-23    delivered   \n",
       "455495  2010-12-23 17:41:00   2.10         nan  2010-12-23    delivered   \n",
       "\n",
       "        amount  \n",
       "0         4.25  \n",
       "1         0.85  \n",
       "2         3.75  \n",
       "3         0.85  \n",
       "4        91.80  \n",
       "...        ...  \n",
       "455491    1.25  \n",
       "455492    5.80  \n",
       "455493    3.75  \n",
       "455494    1.25  \n",
       "455495    2.10  \n",
       "\n",
       "[455496 rows x 10 columns]"
      ]
     },
     "execution_count": 6,
     "metadata": {},
     "output_type": "execute_result"
    }
   ],
   "source": [
    "df_clean = df.copy()\n",
    "# membuat kolom date\n",
    "df_clean['date'] = pd.to_datetime(df_clean['order_date']).dt.date\n",
    "# menghapus semua baris tanpa product_name\n",
    "df_clean = df_clean[~df_clean['product_name'].isna()]\n",
    "# membuat semua product_name berhuruf kecil\n",
    "df_clean['product_name'] = df_clean['product_name'].str.lower()\n",
    "# menghapus semua baris dengan product_code atau product_name test\n",
    "df_clean = df_clean[(~df_clean['product_code'].str.lower().str.contains('test')) |\n",
    "                    (~df_clean['product_name'].str.contains('test '))]\n",
    "# membuat kolom order_status dengan nilai 'cancelled' jika order_id diawali dengan huruf 'c' dan 'delivered' jika order_id tanpa awalan huruf 'c'\n",
    "df_clean['order_status'] = np.where(df_clean['order_id'].str[:1]=='C', 'cancelled', 'delivered')\n",
    "# mengubah nilai quantity yang negatif menjadi positif karena nilai negatif tersebut hanya menandakan order tersebut cancelled\n",
    "df_clean['quantity'] = df_clean['quantity'].abs()\n",
    "# menghapus baris dengan price bernilai negatif\n",
    "df_clean = df_clean[df_clean['price']>0]\n",
    "# membuat nilai amount, yaitu perkalian antara quantity dan price\n",
    "df_clean['amount'] = df_clean['quantity'] * df_clean['price']\n",
    "# mengganti product_name dari product_code yang memiliki beberapa product_name dengan salah satu product_name-nya yang paling sering muncul\n",
    "most_freq_product_name = df_clean.groupby(['product_code','product_name'], as_index=False).agg(order_cnt=('order_id','nunique')).sort_values(['product_code','order_cnt'], ascending=[True,False])\n",
    "most_freq_product_name['rank'] = most_freq_product_name.groupby('product_code')['order_cnt'].rank(method='first', ascending=False)\n",
    "most_freq_product_name = most_freq_product_name[most_freq_product_name['rank']==1].drop(columns=['order_cnt','rank'])\n",
    "df_clean = df_clean.merge(most_freq_product_name.rename(columns={'product_name':'most_freq_product_name'}), how='left', on='product_code')\n",
    "df_clean['product_name'] = df_clean['most_freq_product_name']\n",
    "df_clean = df_clean.drop(columns='most_freq_product_name')\n",
    "# mengkonversi customer_id menjadi string\n",
    "df_clean['customer_id'] = df_clean['customer_id'].astype(str)\n",
    "# menghapus outlier\n",
    "from scipy import stats\n",
    "df_clean = df_clean[(np.abs(stats.zscore(df_clean[['quantity','amount']]))<3).all(axis=1)]\n",
    "df_clean = df_clean.reset_index(drop=True)\n",
    "df_clean"
   ]
  },
  {
   "cell_type": "code",
   "execution_count": 7,
   "id": "cfa2c33e-ec2b-44c9-ac3b-591c9b689c8f",
   "metadata": {
    "execution": {
     "iopub.execute_input": "2022-10-27T10:00:13.632393Z",
     "iopub.status.busy": "2022-10-27T10:00:13.631726Z",
     "iopub.status.idle": "2022-10-27T10:00:14.399411Z",
     "shell.execute_reply": "2022-10-27T10:00:14.398588Z",
     "shell.execute_reply.started": "2022-10-27T10:00:13.632367Z"
    },
    "tags": []
   },
   "outputs": [
    {
     "name": "stdout",
     "output_type": "stream",
     "text": [
      "<class 'pandas.core.frame.DataFrame'>\n",
      "RangeIndex: 455496 entries, 0 to 455495\n",
      "Data columns (total 10 columns):\n",
      " #   Column        Non-Null Count   Dtype  \n",
      "---  ------        --------------   -----  \n",
      " 0   order_id      455496 non-null  object \n",
      " 1   product_code  455496 non-null  object \n",
      " 2   product_name  455496 non-null  object \n",
      " 3   quantity      455496 non-null  int64  \n",
      " 4   order_date    455496 non-null  object \n",
      " 5   price         455496 non-null  float64\n",
      " 6   customer_id   455496 non-null  object \n",
      " 7   date          455496 non-null  object \n",
      " 8   order_status  455496 non-null  object \n",
      " 9   amount        455496 non-null  float64\n",
      "dtypes: float64(2), int64(1), object(7)\n",
      "memory usage: 34.8+ MB\n"
     ]
    }
   ],
   "source": [
    "df_clean.info()"
   ]
  },
  {
   "attachments": {},
   "cell_type": "markdown",
   "id": "71cc4605-87bd-45ed-b397-7ab6f71285f0",
   "metadata": {
    "tags": []
   },
   "source": [
    "# Data visualization\n"
   ]
  },
  {
   "attachments": {},
   "cell_type": "markdown",
   "id": "2eba008f-4ae4-4d40-82a5-efbbea0099ba",
   "metadata": {},
   "source": [
    "## Tabel pivot (pivot table)\n"
   ]
  },
  {
   "cell_type": "code",
   "execution_count": 8,
   "id": "5575e347-bd83-438b-8952-17f35c8b1406",
   "metadata": {
    "execution": {
     "iopub.execute_input": "2022-10-27T10:01:40.090745Z",
     "iopub.status.busy": "2022-10-27T10:01:40.090123Z",
     "iopub.status.idle": "2022-10-27T10:01:40.703087Z",
     "shell.execute_reply": "2022-10-27T10:01:40.699528Z",
     "shell.execute_reply.started": "2022-10-27T10:01:40.090707Z"
    },
    "tags": []
   },
   "outputs": [
    {
     "data": {
      "text/html": [
       "<div>\n",
       "<style scoped>\n",
       "    .dataframe tbody tr th:only-of-type {\n",
       "        vertical-align: middle;\n",
       "    }\n",
       "\n",
       "    .dataframe tbody tr th {\n",
       "        vertical-align: top;\n",
       "    }\n",
       "\n",
       "    .dataframe thead tr th {\n",
       "        text-align: left;\n",
       "    }\n",
       "\n",
       "    .dataframe thead tr:last-of-type th {\n",
       "        text-align: right;\n",
       "    }\n",
       "</style>\n",
       "<table border=\"1\" class=\"dataframe\">\n",
       "  <thead>\n",
       "    <tr>\n",
       "      <th></th>\n",
       "      <th colspan=\"2\" halign=\"left\">amount</th>\n",
       "      <th colspan=\"2\" halign=\"left\">order_id</th>\n",
       "    </tr>\n",
       "    <tr>\n",
       "      <th>order_status</th>\n",
       "      <th>cancelled</th>\n",
       "      <th>delivered</th>\n",
       "      <th>cancelled</th>\n",
       "      <th>delivered</th>\n",
       "    </tr>\n",
       "    <tr>\n",
       "      <th>date</th>\n",
       "      <th></th>\n",
       "      <th></th>\n",
       "      <th></th>\n",
       "      <th></th>\n",
       "    </tr>\n",
       "  </thead>\n",
       "  <tbody>\n",
       "    <tr>\n",
       "      <th>2010-01-04</th>\n",
       "      <td>250.36</td>\n",
       "      <td>7866.41</td>\n",
       "      <td>11</td>\n",
       "      <td>26</td>\n",
       "    </tr>\n",
       "    <tr>\n",
       "      <th>2010-01-05</th>\n",
       "      <td>96.95</td>\n",
       "      <td>15529.29</td>\n",
       "      <td>4</td>\n",
       "      <td>33</td>\n",
       "    </tr>\n",
       "    <tr>\n",
       "      <th>2010-01-06</th>\n",
       "      <td>0.00</td>\n",
       "      <td>7430.34</td>\n",
       "      <td>0</td>\n",
       "      <td>13</td>\n",
       "    </tr>\n",
       "    <tr>\n",
       "      <th>2010-01-07</th>\n",
       "      <td>649.87</td>\n",
       "      <td>17506.10</td>\n",
       "      <td>32</td>\n",
       "      <td>40</td>\n",
       "    </tr>\n",
       "    <tr>\n",
       "      <th>2010-01-08</th>\n",
       "      <td>21.90</td>\n",
       "      <td>13404.25</td>\n",
       "      <td>1</td>\n",
       "      <td>36</td>\n",
       "    </tr>\n",
       "    <tr>\n",
       "      <th>...</th>\n",
       "      <td>...</td>\n",
       "      <td>...</td>\n",
       "      <td>...</td>\n",
       "      <td>...</td>\n",
       "    </tr>\n",
       "    <tr>\n",
       "      <th>2010-12-19</th>\n",
       "      <td>17.60</td>\n",
       "      <td>6653.94</td>\n",
       "      <td>2</td>\n",
       "      <td>21</td>\n",
       "    </tr>\n",
       "    <tr>\n",
       "      <th>2010-12-20</th>\n",
       "      <td>986.42</td>\n",
       "      <td>21149.55</td>\n",
       "      <td>24</td>\n",
       "      <td>54</td>\n",
       "    </tr>\n",
       "    <tr>\n",
       "      <th>2010-12-21</th>\n",
       "      <td>206.15</td>\n",
       "      <td>24229.66</td>\n",
       "      <td>10</td>\n",
       "      <td>47</td>\n",
       "    </tr>\n",
       "    <tr>\n",
       "      <th>2010-12-22</th>\n",
       "      <td>65.40</td>\n",
       "      <td>3690.45</td>\n",
       "      <td>5</td>\n",
       "      <td>13</td>\n",
       "    </tr>\n",
       "    <tr>\n",
       "      <th>2010-12-23</th>\n",
       "      <td>207.85</td>\n",
       "      <td>9767.24</td>\n",
       "      <td>8</td>\n",
       "      <td>24</td>\n",
       "    </tr>\n",
       "  </tbody>\n",
       "</table>\n",
       "<p>298 rows × 4 columns</p>\n",
       "</div>"
      ],
      "text/plain": [
       "                amount            order_id          \n",
       "order_status cancelled delivered cancelled delivered\n",
       "date                                                \n",
       "2010-01-04      250.36   7866.41        11        26\n",
       "2010-01-05       96.95  15529.29         4        33\n",
       "2010-01-06        0.00   7430.34         0        13\n",
       "2010-01-07      649.87  17506.10        32        40\n",
       "2010-01-08       21.90  13404.25         1        36\n",
       "...                ...       ...       ...       ...\n",
       "2010-12-19       17.60   6653.94         2        21\n",
       "2010-12-20      986.42  21149.55        24        54\n",
       "2010-12-21      206.15  24229.66        10        47\n",
       "2010-12-22       65.40   3690.45         5        13\n",
       "2010-12-23      207.85   9767.24         8        24\n",
       "\n",
       "[298 rows x 4 columns]"
      ]
     },
     "execution_count": 8,
     "metadata": {},
     "output_type": "execute_result"
    }
   ],
   "source": [
    "pd.pivot_table(df_clean, index='date',\n",
    "               columns='order_status', values=['order_id','amount'],\n",
    "               aggfunc={'order_id': pd.Series.nunique,\n",
    "                        'amount': np.sum},\n",
    "               fill_value=0\n",
    ")"
   ]
  },
  {
   "attachments": {},
   "cell_type": "markdown",
   "id": "06eaf0e9-59de-4b74-8209-4a9faa042fe0",
   "metadata": {},
   "source": [
    "## Grafik batang (bar chart)\n"
   ]
  },
  {
   "cell_type": "code",
   "execution_count": 9,
   "id": "fd7261da-7690-4020-8363-1d6863657cc7",
   "metadata": {
    "execution": {
     "iopub.execute_input": "2022-10-27T10:04:46.452553Z",
     "iopub.status.busy": "2022-10-27T10:04:46.451751Z",
     "iopub.status.idle": "2022-10-27T10:04:46.714758Z",
     "shell.execute_reply": "2022-10-27T10:04:46.705293Z",
     "shell.execute_reply.started": "2022-10-27T10:04:46.452517Z"
    },
    "tags": []
   },
   "outputs": [
    {
     "data": {
      "text/html": [
       "<div>\n",
       "<style scoped>\n",
       "    .dataframe tbody tr th:only-of-type {\n",
       "        vertical-align: middle;\n",
       "    }\n",
       "\n",
       "    .dataframe tbody tr th {\n",
       "        vertical-align: top;\n",
       "    }\n",
       "\n",
       "    .dataframe thead th {\n",
       "        text-align: right;\n",
       "    }\n",
       "</style>\n",
       "<table border=\"1\" class=\"dataframe\">\n",
       "  <thead>\n",
       "    <tr style=\"text-align: right;\">\n",
       "      <th></th>\n",
       "      <th>order_status</th>\n",
       "      <th>order_cnt</th>\n",
       "      <th>total_amount</th>\n",
       "    </tr>\n",
       "  </thead>\n",
       "  <tbody>\n",
       "    <tr>\n",
       "      <th>0</th>\n",
       "      <td>cancelled</td>\n",
       "      <td>3746</td>\n",
       "      <td>158184.030</td>\n",
       "    </tr>\n",
       "    <tr>\n",
       "      <th>1</th>\n",
       "      <td>delivered</td>\n",
       "      <td>17925</td>\n",
       "      <td>6932842.013</td>\n",
       "    </tr>\n",
       "  </tbody>\n",
       "</table>\n",
       "</div>"
      ],
      "text/plain": [
       "  order_status  order_cnt  total_amount\n",
       "0    cancelled       3746    158184.030\n",
       "1    delivered      17925   6932842.013"
      ]
     },
     "execution_count": 9,
     "metadata": {},
     "output_type": "execute_result"
    }
   ],
   "source": [
    "df_status_summary = df_clean.groupby('order_status', as_index=False).agg(order_cnt=('order_id','nunique'),total_amount=('amount','sum'))\n",
    "df_status_summary"
   ]
  },
  {
   "cell_type": "code",
   "execution_count": 10,
   "id": "341dc183-bddc-403d-95c2-0d4c26fc70b7",
   "metadata": {
    "execution": {
     "iopub.execute_input": "2022-10-27T10:05:11.486796Z",
     "iopub.status.busy": "2022-10-27T10:05:11.486491Z",
     "iopub.status.idle": "2022-10-27T10:05:11.825963Z",
     "shell.execute_reply": "2022-10-27T10:05:11.821700Z",
     "shell.execute_reply.started": "2022-10-27T10:05:11.486769Z"
    },
    "tags": []
   },
   "outputs": [
    {
     "data": {
      "image/png": "[encoded data removed]",
      "text/plain": [
       "<Figure size 600x400 with 1 Axes>"
      ]
     },
     "metadata": {},
     "output_type": "display_data"
    }
   ],
   "source": [
    "# pip install matplotlib\n",
    "import matplotlib.pyplot as plt\n",
    "\n",
    "fig = plt.figure(figsize=(6, 4))\n",
    "plt.bar(df_status_summary['order_status'], df_status_summary['order_cnt'],\n",
    "        color='blue', width=0.5)\n",
    "plt.xlabel('Order Status')\n",
    "plt.ylabel('Total Order')\n",
    "plt.title('Summary of Delivered & Cancelled Orders')\n",
    "plt.show()"
   ]
  },
  {
   "cell_type": "code",
   "execution_count": 11,
   "id": "d694e52d-5a24-430f-acef-1a647294bff4",
   "metadata": {
    "execution": {
     "iopub.execute_input": "2022-10-27T10:05:52.635993Z",
     "iopub.status.busy": "2022-10-27T10:05:52.635288Z",
     "iopub.status.idle": "2022-10-27T10:05:52.884254Z",
     "shell.execute_reply": "2022-10-27T10:05:52.878906Z",
     "shell.execute_reply.started": "2022-10-27T10:05:52.635954Z"
    },
    "tags": []
   },
   "outputs": [
    {
     "data": {
      "image/png": "[encoded data removed]",
      "text/plain": [
       "<Figure size 600x400 with 1 Axes>"
      ]
     },
     "metadata": {},
     "output_type": "display_data"
    }
   ],
   "source": [
    "# pip install matplotlib\n",
    "import matplotlib.pyplot as plt\n",
    "\n",
    "fig = plt.figure(figsize=(6, 4))\n",
    "plt.barh(df_status_summary['order_status'], df_status_summary['order_cnt'],\n",
    "         color='blue')\n",
    "plt.xlabel('Total Order')\n",
    "plt.ylabel('Order Status')\n",
    "plt.title('Summary of Delivered & Cancelled Orders')\n",
    "plt.show()"
   ]
  },
  {
   "attachments": {},
   "cell_type": "markdown",
   "id": "f587ea0c-0265-4f6c-a698-b5a251e97083",
   "metadata": {
    "execution": {
     "iopub.execute_input": "2022-10-22T11:05:50.951453Z",
     "iopub.status.busy": "2022-10-22T11:05:50.951041Z",
     "iopub.status.idle": "2022-10-22T11:05:51.330749Z",
     "shell.execute_reply": "2022-10-22T11:05:51.329414Z",
     "shell.execute_reply.started": "2022-10-22T11:05:50.951413Z"
    },
    "tags": []
   },
   "source": [
    "## Histogram\n"
   ]
  },
  {
   "cell_type": "code",
   "execution_count": 12,
   "id": "20722b4a-fd44-4b99-a54d-35f7647b7d66",
   "metadata": {
    "execution": {
     "iopub.execute_input": "2022-10-27T10:08:08.092509Z",
     "iopub.status.busy": "2022-10-27T10:08:08.092143Z",
     "iopub.status.idle": "2022-10-27T10:08:08.876655Z",
     "shell.execute_reply": "2022-10-27T10:08:08.874446Z",
     "shell.execute_reply.started": "2022-10-27T10:08:08.092478Z"
    },
    "tags": []
   },
   "outputs": [
    {
     "data": {
      "image/png": "[encoded data removed]",
      "text/plain": [
       "<Figure size 600x400 with 1 Axes>"
      ]
     },
     "metadata": {},
     "output_type": "display_data"
    }
   ],
   "source": [
    "# pip install matplotlib\n",
    "import matplotlib.pyplot as plt\n",
    "fig = plt.figure(figsize=(6, 4))\n",
    "plt.hist(df_clean.loc[df_clean['product_name'].str.contains('tea'), 'amount'], 100,\n",
    "         color='blue')\n",
    "plt.show()"
   ]
  },
  {
   "attachments": {},
   "cell_type": "markdown",
   "id": "44faafe4-99bd-4d44-afaf-dfb2a000abcf",
   "metadata": {},
   "source": [
    "## Grafik garis (line chart)\n"
   ]
  },
  {
   "cell_type": "code",
   "execution_count": 13,
   "id": "7510599b-d0cb-4896-a9d3-3524fad18abd",
   "metadata": {
    "execution": {
     "iopub.execute_input": "2022-10-27T10:10:20.362227Z",
     "iopub.status.busy": "2022-10-27T10:10:20.360517Z",
     "iopub.status.idle": "2022-10-27T10:10:20.659767Z",
     "shell.execute_reply": "2022-10-27T10:10:20.653219Z",
     "shell.execute_reply.started": "2022-10-27T10:10:20.362143Z"
    },
    "tags": []
   },
   "outputs": [
    {
     "data": {
      "text/html": [
       "<div>\n",
       "<style scoped>\n",
       "    .dataframe tbody tr th:only-of-type {\n",
       "        vertical-align: middle;\n",
       "    }\n",
       "\n",
       "    .dataframe tbody tr th {\n",
       "        vertical-align: top;\n",
       "    }\n",
       "\n",
       "    .dataframe thead th {\n",
       "        text-align: right;\n",
       "    }\n",
       "</style>\n",
       "<table border=\"1\" class=\"dataframe\">\n",
       "  <thead>\n",
       "    <tr style=\"text-align: right;\">\n",
       "      <th></th>\n",
       "      <th>date</th>\n",
       "      <th>order_cnt</th>\n",
       "    </tr>\n",
       "  </thead>\n",
       "  <tbody>\n",
       "    <tr>\n",
       "      <th>0</th>\n",
       "      <td>2010-01-04</td>\n",
       "      <td>37</td>\n",
       "    </tr>\n",
       "    <tr>\n",
       "      <th>1</th>\n",
       "      <td>2010-01-05</td>\n",
       "      <td>37</td>\n",
       "    </tr>\n",
       "    <tr>\n",
       "      <th>2</th>\n",
       "      <td>2010-01-06</td>\n",
       "      <td>13</td>\n",
       "    </tr>\n",
       "    <tr>\n",
       "      <th>3</th>\n",
       "      <td>2010-01-07</td>\n",
       "      <td>72</td>\n",
       "    </tr>\n",
       "    <tr>\n",
       "      <th>4</th>\n",
       "      <td>2010-01-08</td>\n",
       "      <td>37</td>\n",
       "    </tr>\n",
       "    <tr>\n",
       "      <th>...</th>\n",
       "      <td>...</td>\n",
       "      <td>...</td>\n",
       "    </tr>\n",
       "    <tr>\n",
       "      <th>293</th>\n",
       "      <td>2010-12-19</td>\n",
       "      <td>23</td>\n",
       "    </tr>\n",
       "    <tr>\n",
       "      <th>294</th>\n",
       "      <td>2010-12-20</td>\n",
       "      <td>78</td>\n",
       "    </tr>\n",
       "    <tr>\n",
       "      <th>295</th>\n",
       "      <td>2010-12-21</td>\n",
       "      <td>57</td>\n",
       "    </tr>\n",
       "    <tr>\n",
       "      <th>296</th>\n",
       "      <td>2010-12-22</td>\n",
       "      <td>18</td>\n",
       "    </tr>\n",
       "    <tr>\n",
       "      <th>297</th>\n",
       "      <td>2010-12-23</td>\n",
       "      <td>32</td>\n",
       "    </tr>\n",
       "  </tbody>\n",
       "</table>\n",
       "<p>298 rows × 2 columns</p>\n",
       "</div>"
      ],
      "text/plain": [
       "           date  order_cnt\n",
       "0    2010-01-04         37\n",
       "1    2010-01-05         37\n",
       "2    2010-01-06         13\n",
       "3    2010-01-07         72\n",
       "4    2010-01-08         37\n",
       "..          ...        ...\n",
       "293  2010-12-19         23\n",
       "294  2010-12-20         78\n",
       "295  2010-12-21         57\n",
       "296  2010-12-22         18\n",
       "297  2010-12-23         32\n",
       "\n",
       "[298 rows x 2 columns]"
      ]
     },
     "execution_count": 13,
     "metadata": {},
     "output_type": "execute_result"
    }
   ],
   "source": [
    "df_date_summary = df_clean.groupby('date', as_index=False).agg(order_cnt=('order_id','nunique'))\n",
    "df_date_summary"
   ]
  },
  {
   "cell_type": "code",
   "execution_count": 16,
   "id": "7bfa971b-d109-4e78-82ae-df9d30ca07d0",
   "metadata": {
    "execution": {
     "iopub.execute_input": "2022-10-27T10:10:45.599722Z",
     "iopub.status.busy": "2022-10-27T10:10:45.599081Z",
     "iopub.status.idle": "2022-10-27T10:10:46.137313Z",
     "shell.execute_reply": "2022-10-27T10:10:46.135981Z",
     "shell.execute_reply.started": "2022-10-27T10:10:45.599686Z"
    },
    "tags": []
   },
   "outputs": [
    {
     "data": {
      "image/png": "[encoded data removed]",
      "text/plain": [
       "<Figure size 1200x400 with 1 Axes>"
      ]
     },
     "metadata": {},
     "output_type": "display_data"
    }
   ],
   "source": [
    "# pip install matplotlib\n",
    "import matplotlib.pyplot as plt\n",
    "fig = plt.figure(figsize=(12, 4))\n",
    "plt.plot('date', 'order_cnt', data=df_date_summary, color='blue', linestyle='-')\n",
    "plt.show()"
   ]
  },
  {
   "attachments": {},
   "cell_type": "markdown",
   "id": "1d31cac8-d1dc-4cd6-b49b-c42c086fd1f5",
   "metadata": {
    "tags": []
   },
   "source": [
    "## Grafik lingkaran (pie chart)\n"
   ]
  },
  {
   "cell_type": "code",
   "execution_count": 46,
   "id": "39640a0f-615c-4db3-b277-fde8cec874ad",
   "metadata": {
    "execution": {
     "iopub.execute_input": "2022-10-27T10:13:25.591195Z",
     "iopub.status.busy": "2022-10-27T10:13:25.590738Z",
     "iopub.status.idle": "2022-10-27T10:13:25.714672Z",
     "shell.execute_reply": "2022-10-27T10:13:25.675384Z",
     "shell.execute_reply.started": "2022-10-27T10:13:25.591161Z"
    },
    "tags": []
   },
   "outputs": [
    {
     "data": {
      "text/html": [
       "<div>\n",
       "<style scoped>\n",
       "    .dataframe tbody tr th:only-of-type {\n",
       "        vertical-align: middle;\n",
       "    }\n",
       "\n",
       "    .dataframe tbody tr th {\n",
       "        vertical-align: top;\n",
       "    }\n",
       "\n",
       "    .dataframe thead th {\n",
       "        text-align: right;\n",
       "    }\n",
       "</style>\n",
       "<table border=\"1\" class=\"dataframe\">\n",
       "  <thead>\n",
       "    <tr style=\"text-align: right;\">\n",
       "      <th></th>\n",
       "      <th>order_status</th>\n",
       "      <th>order_cnt</th>\n",
       "      <th>total_amount</th>\n",
       "    </tr>\n",
       "  </thead>\n",
       "  <tbody>\n",
       "    <tr>\n",
       "      <th>0</th>\n",
       "      <td>cancelled</td>\n",
       "      <td>3746</td>\n",
       "      <td>158184.030</td>\n",
       "    </tr>\n",
       "    <tr>\n",
       "      <th>1</th>\n",
       "      <td>delivered</td>\n",
       "      <td>17925</td>\n",
       "      <td>6932842.013</td>\n",
       "    </tr>\n",
       "  </tbody>\n",
       "</table>\n",
       "</div>"
      ],
      "text/plain": [
       "  order_status  order_cnt  total_amount\n",
       "0    cancelled       3746    158184.030\n",
       "1    delivered      17925   6932842.013"
      ]
     },
     "execution_count": 46,
     "metadata": {},
     "output_type": "execute_result"
    }
   ],
   "source": [
    "df_status_summary"
   ]
  },
  {
   "cell_type": "code",
   "execution_count": 47,
   "id": "20428cfb-8378-49bb-9017-777b82c4ba2e",
   "metadata": {
    "execution": {
     "iopub.execute_input": "2022-10-27T10:14:20.850750Z",
     "iopub.status.busy": "2022-10-27T10:14:20.850413Z",
     "iopub.status.idle": "2022-10-27T10:14:21.060877Z",
     "shell.execute_reply": "2022-10-27T10:14:21.059861Z",
     "shell.execute_reply.started": "2022-10-27T10:14:20.850726Z"
    },
    "tags": []
   },
   "outputs": [
    {
     "data": {
      "image/png": "[encoded data removed]",
      "text/plain": [
       "<Figure size 432x288 with 1 Axes>"
      ]
     },
     "metadata": {},
     "output_type": "display_data"
    }
   ],
   "source": [
    "# pip install matplotlib\n",
    "import matplotlib.pyplot as plt\n",
    "fig = plt.figure(figsize=(6, 4))\n",
    "plt.pie(df_status_summary['total_amount'], labels=df_status_summary['order_status'],\n",
    "        startangle=90, autopct='%1.2f%%', colors=['#FF6961','#77DDAA'])\n",
    "plt.show()"
   ]
  },
  {
   "attachments": {},
   "cell_type": "markdown",
   "id": "1f84d8a1-6626-488a-8185-8d1009f0dd5a",
   "metadata": {},
   "source": [
    "## Grafik sebar (scatterplot)\n"
   ]
  },
  {
   "cell_type": "code",
   "execution_count": 48,
   "id": "5757316b-c538-4216-aa54-9a919bec2932",
   "metadata": {
    "execution": {
     "iopub.execute_input": "2022-10-27T10:15:50.918179Z",
     "iopub.status.busy": "2022-10-27T10:15:50.915244Z",
     "iopub.status.idle": "2022-10-27T10:15:51.387733Z",
     "shell.execute_reply": "2022-10-27T10:15:51.383096Z",
     "shell.execute_reply.started": "2022-10-27T10:15:50.918141Z"
    },
    "scrolled": true,
    "tags": []
   },
   "outputs": [
    {
     "data": {
      "text/html": [
       "<div>\n",
       "<style scoped>\n",
       "    .dataframe tbody tr th:only-of-type {\n",
       "        vertical-align: middle;\n",
       "    }\n",
       "\n",
       "    .dataframe tbody tr th {\n",
       "        vertical-align: top;\n",
       "    }\n",
       "\n",
       "    .dataframe thead th {\n",
       "        text-align: right;\n",
       "    }\n",
       "</style>\n",
       "<table border=\"1\" class=\"dataframe\">\n",
       "  <thead>\n",
       "    <tr style=\"text-align: right;\">\n",
       "      <th></th>\n",
       "      <th>order_id</th>\n",
       "      <th>product_code</th>\n",
       "      <th>product_name</th>\n",
       "      <th>quantity</th>\n",
       "      <th>order_date</th>\n",
       "      <th>price</th>\n",
       "      <th>customer_id</th>\n",
       "      <th>date</th>\n",
       "      <th>order_status</th>\n",
       "      <th>amount</th>\n",
       "    </tr>\n",
       "  </thead>\n",
       "  <tbody>\n",
       "    <tr>\n",
       "      <th>8</th>\n",
       "      <td>493414</td>\n",
       "      <td>21527</td>\n",
       "      <td>red retrospot traditional teapot</td>\n",
       "      <td>12</td>\n",
       "      <td>2010-01-04 10:28:00</td>\n",
       "      <td>6.95</td>\n",
       "      <td>14590.0</td>\n",
       "      <td>2010-01-04</td>\n",
       "      <td>delivered</td>\n",
       "      <td>83.40</td>\n",
       "    </tr>\n",
       "    <tr>\n",
       "      <th>10</th>\n",
       "      <td>C493415</td>\n",
       "      <td>21527</td>\n",
       "      <td>red retrospot traditional teapot</td>\n",
       "      <td>3</td>\n",
       "      <td>2010-01-04 10:33:00</td>\n",
       "      <td>7.95</td>\n",
       "      <td>14590.0</td>\n",
       "      <td>2010-01-04</td>\n",
       "      <td>cancelled</td>\n",
       "      <td>23.85</td>\n",
       "    </tr>\n",
       "    <tr>\n",
       "      <th>20</th>\n",
       "      <td>493427</td>\n",
       "      <td>79000</td>\n",
       "      <td>moroccan tea glass</td>\n",
       "      <td>12</td>\n",
       "      <td>2010-01-04 10:43:00</td>\n",
       "      <td>0.85</td>\n",
       "      <td>13287.0</td>\n",
       "      <td>2010-01-04</td>\n",
       "      <td>delivered</td>\n",
       "      <td>10.20</td>\n",
       "    </tr>\n",
       "    <tr>\n",
       "      <th>56</th>\n",
       "      <td>C493430</td>\n",
       "      <td>21527</td>\n",
       "      <td>red retrospot traditional teapot</td>\n",
       "      <td>1</td>\n",
       "      <td>2010-01-04 11:43:00</td>\n",
       "      <td>7.95</td>\n",
       "      <td>14680.0</td>\n",
       "      <td>2010-01-04</td>\n",
       "      <td>cancelled</td>\n",
       "      <td>7.95</td>\n",
       "    </tr>\n",
       "    <tr>\n",
       "      <th>100</th>\n",
       "      <td>493432</td>\n",
       "      <td>22072</td>\n",
       "      <td>red retrospot tea cup and saucer</td>\n",
       "      <td>2</td>\n",
       "      <td>2010-01-04 12:30:00</td>\n",
       "      <td>3.75</td>\n",
       "      <td>14680.0</td>\n",
       "      <td>2010-01-04</td>\n",
       "      <td>delivered</td>\n",
       "      <td>7.50</td>\n",
       "    </tr>\n",
       "    <tr>\n",
       "      <th>...</th>\n",
       "      <td>...</td>\n",
       "      <td>...</td>\n",
       "      <td>...</td>\n",
       "      <td>...</td>\n",
       "      <td>...</td>\n",
       "      <td>...</td>\n",
       "      <td>...</td>\n",
       "      <td>...</td>\n",
       "      <td>...</td>\n",
       "      <td>...</td>\n",
       "    </tr>\n",
       "    <tr>\n",
       "      <th>455138</th>\n",
       "      <td>539958</td>\n",
       "      <td>22481</td>\n",
       "      <td>black tea towel classic design</td>\n",
       "      <td>3</td>\n",
       "      <td>2010-12-23 13:26:00</td>\n",
       "      <td>0.85</td>\n",
       "      <td>nan</td>\n",
       "      <td>2010-12-23</td>\n",
       "      <td>delivered</td>\n",
       "      <td>2.55</td>\n",
       "    </tr>\n",
       "    <tr>\n",
       "      <th>455196</th>\n",
       "      <td>539958</td>\n",
       "      <td>22900</td>\n",
       "      <td>set 2 tea towels i love london</td>\n",
       "      <td>1</td>\n",
       "      <td>2010-12-23 13:26:00</td>\n",
       "      <td>5.91</td>\n",
       "      <td>nan</td>\n",
       "      <td>2010-12-23</td>\n",
       "      <td>delivered</td>\n",
       "      <td>5.91</td>\n",
       "    </tr>\n",
       "    <tr>\n",
       "      <th>455467</th>\n",
       "      <td>539988</td>\n",
       "      <td>47559B</td>\n",
       "      <td>tea time oven glove</td>\n",
       "      <td>2</td>\n",
       "      <td>2010-12-23 16:06:00</td>\n",
       "      <td>1.25</td>\n",
       "      <td>18116.0</td>\n",
       "      <td>2010-12-23</td>\n",
       "      <td>delivered</td>\n",
       "      <td>2.50</td>\n",
       "    </tr>\n",
       "    <tr>\n",
       "      <th>455485</th>\n",
       "      <td>539991</td>\n",
       "      <td>22891</td>\n",
       "      <td>tea for one polkadot</td>\n",
       "      <td>1</td>\n",
       "      <td>2010-12-23 16:49:00</td>\n",
       "      <td>4.25</td>\n",
       "      <td>nan</td>\n",
       "      <td>2010-12-23</td>\n",
       "      <td>delivered</td>\n",
       "      <td>4.25</td>\n",
       "    </tr>\n",
       "    <tr>\n",
       "      <th>455486</th>\n",
       "      <td>539991</td>\n",
       "      <td>22649</td>\n",
       "      <td>strawberry fairy cake teapot</td>\n",
       "      <td>1</td>\n",
       "      <td>2010-12-23 16:49:00</td>\n",
       "      <td>4.95</td>\n",
       "      <td>nan</td>\n",
       "      <td>2010-12-23</td>\n",
       "      <td>delivered</td>\n",
       "      <td>4.95</td>\n",
       "    </tr>\n",
       "  </tbody>\n",
       "</table>\n",
       "<p>17143 rows × 10 columns</p>\n",
       "</div>"
      ],
      "text/plain": [
       "       order_id product_code                      product_name  quantity  \\\n",
       "8        493414        21527  red retrospot traditional teapot        12   \n",
       "10      C493415        21527  red retrospot traditional teapot         3   \n",
       "20       493427        79000                moroccan tea glass        12   \n",
       "56      C493430        21527  red retrospot traditional teapot         1   \n",
       "100      493432        22072  red retrospot tea cup and saucer         2   \n",
       "...         ...          ...                               ...       ...   \n",
       "455138   539958        22481    black tea towel classic design         3   \n",
       "455196   539958        22900    set 2 tea towels i love london         1   \n",
       "455467   539988       47559B               tea time oven glove         2   \n",
       "455485   539991        22891              tea for one polkadot         1   \n",
       "455486   539991        22649      strawberry fairy cake teapot         1   \n",
       "\n",
       "                 order_date  price customer_id        date order_status  \\\n",
       "8       2010-01-04 10:28:00   6.95     14590.0  2010-01-04    delivered   \n",
       "10      2010-01-04 10:33:00   7.95     14590.0  2010-01-04    cancelled   \n",
       "20      2010-01-04 10:43:00   0.85     13287.0  2010-01-04    delivered   \n",
       "56      2010-01-04 11:43:00   7.95     14680.0  2010-01-04    cancelled   \n",
       "100     2010-01-04 12:30:00   3.75     14680.0  2010-01-04    delivered   \n",
       "...                     ...    ...         ...         ...          ...   \n",
       "455138  2010-12-23 13:26:00   0.85         nan  2010-12-23    delivered   \n",
       "455196  2010-12-23 13:26:00   5.91         nan  2010-12-23    delivered   \n",
       "455467  2010-12-23 16:06:00   1.25     18116.0  2010-12-23    delivered   \n",
       "455485  2010-12-23 16:49:00   4.25         nan  2010-12-23    delivered   \n",
       "455486  2010-12-23 16:49:00   4.95         nan  2010-12-23    delivered   \n",
       "\n",
       "        amount  \n",
       "8        83.40  \n",
       "10       23.85  \n",
       "20       10.20  \n",
       "56        7.95  \n",
       "100       7.50  \n",
       "...        ...  \n",
       "455138    2.55  \n",
       "455196    5.91  \n",
       "455467    2.50  \n",
       "455485    4.25  \n",
       "455486    4.95  \n",
       "\n",
       "[17143 rows x 10 columns]"
      ]
     },
     "execution_count": 48,
     "metadata": {},
     "output_type": "execute_result"
    }
   ],
   "source": [
    "df_tea_only = df_clean[df_clean['product_name'].str.contains('tea')]\n",
    "df_tea_only"
   ]
  },
  {
   "cell_type": "code",
   "execution_count": 49,
   "id": "6db041c0-d84f-4e3d-8e40-c7c0ad726246",
   "metadata": {
    "execution": {
     "iopub.execute_input": "2022-10-27T10:16:09.228226Z",
     "iopub.status.busy": "2022-10-27T10:16:09.227783Z",
     "iopub.status.idle": "2022-10-27T10:16:09.547090Z",
     "shell.execute_reply": "2022-10-27T10:16:09.536869Z",
     "shell.execute_reply.started": "2022-10-27T10:16:09.228199Z"
    },
    "tags": []
   },
   "outputs": [
    {
     "data": {
      "image/png": "[encoded data removed]",
      "text/plain": [
       "<Figure size 432x288 with 1 Axes>"
      ]
     },
     "metadata": {
      "needs_background": "light"
     },
     "output_type": "display_data"
    }
   ],
   "source": [
    "# pip install matplotlib\n",
    "import matplotlib.pyplot as plt\n",
    "fig = plt.figure(figsize=(6, 4))\n",
    "plt.scatter(df_tea_only['quantity'], df_tea_only['amount'], c='blue', marker='o')\n",
    "plt.xlabel('Quantity')\n",
    "plt.ylabel('Amount')\n",
    "plt.title('Tea Quantity vs Amount')\n",
    "plt.show()"
   ]
  },
  {
   "attachments": {},
   "cell_type": "markdown",
   "id": "06e60fea-151f-49f4-bc49-4029bca4b5dc",
   "metadata": {},
   "source": [
    "## Grafik kotak-garis (boxplot)\n"
   ]
  },
  {
   "cell_type": "code",
   "execution_count": 50,
   "id": "26ccf513-8928-43b4-a543-3820362ae240",
   "metadata": {
    "execution": {
     "iopub.execute_input": "2022-10-27T10:18:43.161800Z",
     "iopub.status.busy": "2022-10-27T10:18:43.161508Z",
     "iopub.status.idle": "2022-10-27T10:18:43.254607Z",
     "shell.execute_reply": "2022-10-27T10:18:43.230258Z",
     "shell.execute_reply.started": "2022-10-27T10:18:43.161773Z"
    },
    "scrolled": true,
    "tags": []
   },
   "outputs": [
    {
     "data": {
      "text/html": [
       "<div>\n",
       "<style scoped>\n",
       "    .dataframe tbody tr th:only-of-type {\n",
       "        vertical-align: middle;\n",
       "    }\n",
       "\n",
       "    .dataframe tbody tr th {\n",
       "        vertical-align: top;\n",
       "    }\n",
       "\n",
       "    .dataframe thead th {\n",
       "        text-align: right;\n",
       "    }\n",
       "</style>\n",
       "<table border=\"1\" class=\"dataframe\">\n",
       "  <thead>\n",
       "    <tr style=\"text-align: right;\">\n",
       "      <th></th>\n",
       "      <th>order_id</th>\n",
       "      <th>product_code</th>\n",
       "      <th>product_name</th>\n",
       "      <th>quantity</th>\n",
       "      <th>order_date</th>\n",
       "      <th>price</th>\n",
       "      <th>customer_id</th>\n",
       "      <th>date</th>\n",
       "      <th>order_status</th>\n",
       "      <th>amount</th>\n",
       "    </tr>\n",
       "  </thead>\n",
       "  <tbody>\n",
       "    <tr>\n",
       "      <th>8</th>\n",
       "      <td>493414</td>\n",
       "      <td>21527</td>\n",
       "      <td>red retrospot traditional teapot</td>\n",
       "      <td>12</td>\n",
       "      <td>2010-01-04 10:28:00</td>\n",
       "      <td>6.95</td>\n",
       "      <td>14590.0</td>\n",
       "      <td>2010-01-04</td>\n",
       "      <td>delivered</td>\n",
       "      <td>83.40</td>\n",
       "    </tr>\n",
       "    <tr>\n",
       "      <th>10</th>\n",
       "      <td>C493415</td>\n",
       "      <td>21527</td>\n",
       "      <td>red retrospot traditional teapot</td>\n",
       "      <td>3</td>\n",
       "      <td>2010-01-04 10:33:00</td>\n",
       "      <td>7.95</td>\n",
       "      <td>14590.0</td>\n",
       "      <td>2010-01-04</td>\n",
       "      <td>cancelled</td>\n",
       "      <td>23.85</td>\n",
       "    </tr>\n",
       "    <tr>\n",
       "      <th>20</th>\n",
       "      <td>493427</td>\n",
       "      <td>79000</td>\n",
       "      <td>moroccan tea glass</td>\n",
       "      <td>12</td>\n",
       "      <td>2010-01-04 10:43:00</td>\n",
       "      <td>0.85</td>\n",
       "      <td>13287.0</td>\n",
       "      <td>2010-01-04</td>\n",
       "      <td>delivered</td>\n",
       "      <td>10.20</td>\n",
       "    </tr>\n",
       "    <tr>\n",
       "      <th>56</th>\n",
       "      <td>C493430</td>\n",
       "      <td>21527</td>\n",
       "      <td>red retrospot traditional teapot</td>\n",
       "      <td>1</td>\n",
       "      <td>2010-01-04 11:43:00</td>\n",
       "      <td>7.95</td>\n",
       "      <td>14680.0</td>\n",
       "      <td>2010-01-04</td>\n",
       "      <td>cancelled</td>\n",
       "      <td>7.95</td>\n",
       "    </tr>\n",
       "    <tr>\n",
       "      <th>100</th>\n",
       "      <td>493432</td>\n",
       "      <td>22072</td>\n",
       "      <td>red retrospot tea cup and saucer</td>\n",
       "      <td>2</td>\n",
       "      <td>2010-01-04 12:30:00</td>\n",
       "      <td>3.75</td>\n",
       "      <td>14680.0</td>\n",
       "      <td>2010-01-04</td>\n",
       "      <td>delivered</td>\n",
       "      <td>7.50</td>\n",
       "    </tr>\n",
       "    <tr>\n",
       "      <th>...</th>\n",
       "      <td>...</td>\n",
       "      <td>...</td>\n",
       "      <td>...</td>\n",
       "      <td>...</td>\n",
       "      <td>...</td>\n",
       "      <td>...</td>\n",
       "      <td>...</td>\n",
       "      <td>...</td>\n",
       "      <td>...</td>\n",
       "      <td>...</td>\n",
       "    </tr>\n",
       "    <tr>\n",
       "      <th>455138</th>\n",
       "      <td>539958</td>\n",
       "      <td>22481</td>\n",
       "      <td>black tea towel classic design</td>\n",
       "      <td>3</td>\n",
       "      <td>2010-12-23 13:26:00</td>\n",
       "      <td>0.85</td>\n",
       "      <td>nan</td>\n",
       "      <td>2010-12-23</td>\n",
       "      <td>delivered</td>\n",
       "      <td>2.55</td>\n",
       "    </tr>\n",
       "    <tr>\n",
       "      <th>455196</th>\n",
       "      <td>539958</td>\n",
       "      <td>22900</td>\n",
       "      <td>set 2 tea towels i love london</td>\n",
       "      <td>1</td>\n",
       "      <td>2010-12-23 13:26:00</td>\n",
       "      <td>5.91</td>\n",
       "      <td>nan</td>\n",
       "      <td>2010-12-23</td>\n",
       "      <td>delivered</td>\n",
       "      <td>5.91</td>\n",
       "    </tr>\n",
       "    <tr>\n",
       "      <th>455467</th>\n",
       "      <td>539988</td>\n",
       "      <td>47559B</td>\n",
       "      <td>tea time oven glove</td>\n",
       "      <td>2</td>\n",
       "      <td>2010-12-23 16:06:00</td>\n",
       "      <td>1.25</td>\n",
       "      <td>18116.0</td>\n",
       "      <td>2010-12-23</td>\n",
       "      <td>delivered</td>\n",
       "      <td>2.50</td>\n",
       "    </tr>\n",
       "    <tr>\n",
       "      <th>455485</th>\n",
       "      <td>539991</td>\n",
       "      <td>22891</td>\n",
       "      <td>tea for one polkadot</td>\n",
       "      <td>1</td>\n",
       "      <td>2010-12-23 16:49:00</td>\n",
       "      <td>4.25</td>\n",
       "      <td>nan</td>\n",
       "      <td>2010-12-23</td>\n",
       "      <td>delivered</td>\n",
       "      <td>4.25</td>\n",
       "    </tr>\n",
       "    <tr>\n",
       "      <th>455486</th>\n",
       "      <td>539991</td>\n",
       "      <td>22649</td>\n",
       "      <td>strawberry fairy cake teapot</td>\n",
       "      <td>1</td>\n",
       "      <td>2010-12-23 16:49:00</td>\n",
       "      <td>4.95</td>\n",
       "      <td>nan</td>\n",
       "      <td>2010-12-23</td>\n",
       "      <td>delivered</td>\n",
       "      <td>4.95</td>\n",
       "    </tr>\n",
       "  </tbody>\n",
       "</table>\n",
       "<p>17143 rows × 10 columns</p>\n",
       "</div>"
      ],
      "text/plain": [
       "       order_id product_code                      product_name  quantity  \\\n",
       "8        493414        21527  red retrospot traditional teapot        12   \n",
       "10      C493415        21527  red retrospot traditional teapot         3   \n",
       "20       493427        79000                moroccan tea glass        12   \n",
       "56      C493430        21527  red retrospot traditional teapot         1   \n",
       "100      493432        22072  red retrospot tea cup and saucer         2   \n",
       "...         ...          ...                               ...       ...   \n",
       "455138   539958        22481    black tea towel classic design         3   \n",
       "455196   539958        22900    set 2 tea towels i love london         1   \n",
       "455467   539988       47559B               tea time oven glove         2   \n",
       "455485   539991        22891              tea for one polkadot         1   \n",
       "455486   539991        22649      strawberry fairy cake teapot         1   \n",
       "\n",
       "                 order_date  price customer_id        date order_status  \\\n",
       "8       2010-01-04 10:28:00   6.95     14590.0  2010-01-04    delivered   \n",
       "10      2010-01-04 10:33:00   7.95     14590.0  2010-01-04    cancelled   \n",
       "20      2010-01-04 10:43:00   0.85     13287.0  2010-01-04    delivered   \n",
       "56      2010-01-04 11:43:00   7.95     14680.0  2010-01-04    cancelled   \n",
       "100     2010-01-04 12:30:00   3.75     14680.0  2010-01-04    delivered   \n",
       "...                     ...    ...         ...         ...          ...   \n",
       "455138  2010-12-23 13:26:00   0.85         nan  2010-12-23    delivered   \n",
       "455196  2010-12-23 13:26:00   5.91         nan  2010-12-23    delivered   \n",
       "455467  2010-12-23 16:06:00   1.25     18116.0  2010-12-23    delivered   \n",
       "455485  2010-12-23 16:49:00   4.25         nan  2010-12-23    delivered   \n",
       "455486  2010-12-23 16:49:00   4.95         nan  2010-12-23    delivered   \n",
       "\n",
       "        amount  \n",
       "8        83.40  \n",
       "10       23.85  \n",
       "20       10.20  \n",
       "56        7.95  \n",
       "100       7.50  \n",
       "...        ...  \n",
       "455138    2.55  \n",
       "455196    5.91  \n",
       "455467    2.50  \n",
       "455485    4.25  \n",
       "455486    4.95  \n",
       "\n",
       "[17143 rows x 10 columns]"
      ]
     },
     "execution_count": 50,
     "metadata": {},
     "output_type": "execute_result"
    }
   ],
   "source": [
    "df_tea_only"
   ]
  },
  {
   "cell_type": "code",
   "execution_count": 51,
   "id": "509dcafb-c137-4d49-a804-da78e29f78dc",
   "metadata": {
    "execution": {
     "iopub.execute_input": "2022-10-27T10:19:04.048872Z",
     "iopub.status.busy": "2022-10-27T10:19:04.048518Z",
     "iopub.status.idle": "2022-10-27T10:19:04.828508Z",
     "shell.execute_reply": "2022-10-27T10:19:04.819478Z",
     "shell.execute_reply.started": "2022-10-27T10:19:04.048839Z"
    },
    "tags": []
   },
   "outputs": [
    {
     "data": {
      "text/plain": [
       "<AxesSubplot:ylabel='quantity'>"
      ]
     },
     "execution_count": 51,
     "metadata": {},
     "output_type": "execute_result"
    },
    {
     "data": {
      "image/png": "[encoded data removed]",
      "text/plain": [
       "<Figure size 432x288 with 1 Axes>"
      ]
     },
     "metadata": {
      "needs_background": "light"
     },
     "output_type": "display_data"
    }
   ],
   "source": [
    "# pip install seaborn\n",
    "import seaborn as sns\n",
    "fig = plt.figure(figsize=(6, 4))\n",
    "sns.boxplot(data=df_tea_only, y='quantity', color='white')"
   ]
  },
  {
   "cell_type": "code",
   "execution_count": 52,
   "id": "77d149c6-55c0-4db5-a1ff-f6c3891018a8",
   "metadata": {
    "execution": {
     "iopub.execute_input": "2022-10-27T10:19:30.689068Z",
     "iopub.status.busy": "2022-10-27T10:19:30.686431Z",
     "iopub.status.idle": "2022-10-27T10:19:31.031662Z",
     "shell.execute_reply": "2022-10-27T10:19:31.011158Z",
     "shell.execute_reply.started": "2022-10-27T10:19:30.689009Z"
    },
    "tags": []
   },
   "outputs": [
    {
     "data": {
      "text/plain": [
       "<AxesSubplot:ylabel='amount'>"
      ]
     },
     "execution_count": 52,
     "metadata": {},
     "output_type": "execute_result"
    },
    {
     "data": {
      "image/png": "[encoded data removed]",
      "text/plain": [
       "<Figure size 432x288 with 1 Axes>"
      ]
     },
     "metadata": {
      "needs_background": "light"
     },
     "output_type": "display_data"
    }
   ],
   "source": [
    "# pip install seaborn\n",
    "import seaborn as sns\n",
    "fig = plt.figure(figsize=(6, 4))\n",
    "sns.boxplot(data=df_tea_only, y='amount', color='white')"
   ]
  },
  {
   "attachments": {},
   "cell_type": "markdown",
   "id": "c42e1592-ee01-4091-8536-2e7b7da4b176",
   "metadata": {},
   "source": [
    "## Heatmap - Correlation\n"
   ]
  },
  {
   "cell_type": "code",
   "execution_count": 53,
   "id": "32c40076-374b-45d3-bb6c-ce568fa8d18e",
   "metadata": {
    "execution": {
     "iopub.execute_input": "2022-10-27T10:31:43.782817Z",
     "iopub.status.busy": "2022-10-27T10:31:43.769477Z",
     "iopub.status.idle": "2022-10-27T10:31:44.421363Z",
     "shell.execute_reply": "2022-10-27T10:31:44.419190Z",
     "shell.execute_reply.started": "2022-10-27T10:31:43.782617Z"
    },
    "tags": []
   },
   "outputs": [
    {
     "data": {
      "text/plain": [
       "<AxesSubplot:>"
      ]
     },
     "execution_count": 53,
     "metadata": {},
     "output_type": "execute_result"
    },
    {
     "data": {
      "image/png": "[encoded data removed]",
      "text/plain": [
       "<Figure size 432x288 with 2 Axes>"
      ]
     },
     "metadata": {
      "needs_background": "light"
     },
     "output_type": "display_data"
    }
   ],
   "source": [
    "# pip install seaborn\n",
    "import seaborn as sns\n",
    "fig = plt.figure(figsize=(6, 4))\n",
    "sns.heatmap(df_clean.corr(), cmap='Blues', annot=True)"
   ]
  },
  {
   "cell_type": "code",
   "execution_count": null,
   "id": "43d8373b-ce16-4d28-bbf6-c1fb0e0b4880",
   "metadata": {},
   "outputs": [],
   "source": []
  }
 ],
 "metadata": {
  "kernelspec": {
   "display_name": "Python 3 (ipykernel)",
   "language": "python",
   "name": "python3"
  },
  "language_info": {
   "codemirror_mode": {
    "name": "ipython",
    "version": 3
   },
   "file_extension": ".py",
   "mimetype": "text/x-python",
   "name": "python",
   "nbconvert_exporter": "python",
   "pygments_lexer": "ipython3",
   "version": "3.9.16"
  },
  "toc": {
   "base_numbering": 1,
   "nav_menu": {},
   "number_sections": true,
   "sideBar": true,
   "skip_h1_title": false,
   "title_cell": "Table of Contents",
   "title_sidebar": "Contents",
   "toc_cell": false,
   "toc_position": {},
   "toc_section_display": true,
   "toc_window_display": true
  }
 },
 "nbformat": 4,
 "nbformat_minor": 5
}
