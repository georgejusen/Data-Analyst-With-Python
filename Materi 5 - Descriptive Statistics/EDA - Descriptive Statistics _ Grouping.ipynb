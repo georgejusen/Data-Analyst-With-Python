{
 "cells": [
  {
   "cell_type": "markdown",
   "id": "c98e0752",
   "metadata": {},
   "source": [
    "# Impor packages"
   ]
  },
  {
   "cell_type": "code",
   "execution_count": 1,
   "id": "9e69ab8b",
   "metadata": {
    "ExecuteTime": {
     "end_time": "2022-10-09T09:26:37.053251Z",
     "start_time": "2022-10-09T09:26:33.994854Z"
    },
    "execution": {
     "iopub.execute_input": "2022-10-27T09:08:34.104574Z",
     "iopub.status.busy": "2022-10-27T09:08:34.098736Z",
     "iopub.status.idle": "2022-10-27T09:08:36.163843Z",
     "shell.execute_reply": "2022-10-27T09:08:36.162981Z",
     "shell.execute_reply.started": "2022-10-27T09:08:34.103544Z"
    },
    "tags": []
   },
   "outputs": [],
   "source": [
    "# pip install pandas\n",
    "# pip install numpy\n",
    "import pandas as pd\n",
    "import numpy as np"
   ]
  },
  {
   "cell_type": "code",
   "execution_count": 2,
   "id": "13eca110",
   "metadata": {
    "ExecuteTime": {
     "end_time": "2022-10-09T09:31:34.277420Z",
     "start_time": "2022-10-09T09:31:34.262791Z"
    },
    "execution": {
     "iopub.execute_input": "2022-10-27T09:08:36.165377Z",
     "iopub.status.busy": "2022-10-27T09:08:36.165128Z",
     "iopub.status.idle": "2022-10-27T09:08:36.320114Z",
     "shell.execute_reply": "2022-10-27T09:08:36.263945Z",
     "shell.execute_reply.started": "2022-10-27T09:08:36.165356Z"
    },
    "tags": []
   },
   "outputs": [
    {
     "data": {
      "text/plain": [
       "'/Users/ivanadhitamac/Documents/MySkill'"
      ]
     },
     "execution_count": 2,
     "metadata": {},
     "output_type": "execute_result"
    }
   ],
   "source": [
    "import os\n",
    "os.getcwd()"
   ]
  },
  {
   "cell_type": "markdown",
   "id": "e8ab0dc7-7a11-4ce0-86c0-0905142c44ae",
   "metadata": {},
   "source": [
    "# Impor data dari CSV ke DataFrame"
   ]
  },
  {
   "cell_type": "code",
   "execution_count": 3,
   "id": "9c7563ab-df4d-4ee4-a04b-39cb5dfecac6",
   "metadata": {
    "execution": {
     "iopub.execute_input": "2022-10-27T09:08:40.671561Z",
     "iopub.status.busy": "2022-10-27T09:08:40.670930Z",
     "iopub.status.idle": "2022-10-27T09:08:41.477496Z",
     "shell.execute_reply": "2022-10-27T09:08:41.469636Z",
     "shell.execute_reply.started": "2022-10-27T09:08:40.671524Z"
    },
    "tags": []
   },
   "outputs": [
    {
     "data": {
      "text/html": [
       "<div>\n",
       "<style scoped>\n",
       "    .dataframe tbody tr th:only-of-type {\n",
       "        vertical-align: middle;\n",
       "    }\n",
       "\n",
       "    .dataframe tbody tr th {\n",
       "        vertical-align: top;\n",
       "    }\n",
       "\n",
       "    .dataframe thead th {\n",
       "        text-align: right;\n",
       "    }\n",
       "</style>\n",
       "<table border=\"1\" class=\"dataframe\">\n",
       "  <thead>\n",
       "    <tr style=\"text-align: right;\">\n",
       "      <th></th>\n",
       "      <th>order_id</th>\n",
       "      <th>product_code</th>\n",
       "      <th>product_name</th>\n",
       "      <th>quantity</th>\n",
       "      <th>order_date</th>\n",
       "      <th>price</th>\n",
       "      <th>customer_id</th>\n",
       "    </tr>\n",
       "  </thead>\n",
       "  <tbody>\n",
       "    <tr>\n",
       "      <th>0</th>\n",
       "      <td>493410</td>\n",
       "      <td>TEST001</td>\n",
       "      <td>This is a test product.</td>\n",
       "      <td>5</td>\n",
       "      <td>2010-01-04 09:24:00</td>\n",
       "      <td>4.50</td>\n",
       "      <td>12346.0</td>\n",
       "    </tr>\n",
       "    <tr>\n",
       "      <th>1</th>\n",
       "      <td>C493411</td>\n",
       "      <td>21539</td>\n",
       "      <td>RETRO SPOTS BUTTER DISH</td>\n",
       "      <td>-1</td>\n",
       "      <td>2010-01-04 09:43:00</td>\n",
       "      <td>4.25</td>\n",
       "      <td>14590.0</td>\n",
       "    </tr>\n",
       "    <tr>\n",
       "      <th>2</th>\n",
       "      <td>493412</td>\n",
       "      <td>TEST001</td>\n",
       "      <td>This is a test product.</td>\n",
       "      <td>5</td>\n",
       "      <td>2010-01-04 09:53:00</td>\n",
       "      <td>4.50</td>\n",
       "      <td>12346.0</td>\n",
       "    </tr>\n",
       "    <tr>\n",
       "      <th>3</th>\n",
       "      <td>493413</td>\n",
       "      <td>21724</td>\n",
       "      <td>PANDA AND BUNNIES STICKER SHEET</td>\n",
       "      <td>1</td>\n",
       "      <td>2010-01-04 09:54:00</td>\n",
       "      <td>0.85</td>\n",
       "      <td>NaN</td>\n",
       "    </tr>\n",
       "    <tr>\n",
       "      <th>4</th>\n",
       "      <td>493413</td>\n",
       "      <td>84578</td>\n",
       "      <td>ELEPHANT TOY WITH BLUE T-SHIRT</td>\n",
       "      <td>1</td>\n",
       "      <td>2010-01-04 09:54:00</td>\n",
       "      <td>3.75</td>\n",
       "      <td>NaN</td>\n",
       "    </tr>\n",
       "    <tr>\n",
       "      <th>...</th>\n",
       "      <td>...</td>\n",
       "      <td>...</td>\n",
       "      <td>...</td>\n",
       "      <td>...</td>\n",
       "      <td>...</td>\n",
       "      <td>...</td>\n",
       "      <td>...</td>\n",
       "    </tr>\n",
       "    <tr>\n",
       "      <th>461768</th>\n",
       "      <td>539991</td>\n",
       "      <td>21618</td>\n",
       "      <td>4 WILDFLOWER BOTANICAL CANDLES</td>\n",
       "      <td>1</td>\n",
       "      <td>2010-12-23 16:49:00</td>\n",
       "      <td>1.25</td>\n",
       "      <td>NaN</td>\n",
       "    </tr>\n",
       "    <tr>\n",
       "      <th>461769</th>\n",
       "      <td>539991</td>\n",
       "      <td>72741</td>\n",
       "      <td>GRAND CHOCOLATECANDLE</td>\n",
       "      <td>4</td>\n",
       "      <td>2010-12-23 16:49:00</td>\n",
       "      <td>1.45</td>\n",
       "      <td>NaN</td>\n",
       "    </tr>\n",
       "    <tr>\n",
       "      <th>461770</th>\n",
       "      <td>539992</td>\n",
       "      <td>21470</td>\n",
       "      <td>FLOWER VINE RAFFIA FOOD COVER</td>\n",
       "      <td>1</td>\n",
       "      <td>2010-12-23 17:41:00</td>\n",
       "      <td>3.75</td>\n",
       "      <td>NaN</td>\n",
       "    </tr>\n",
       "    <tr>\n",
       "      <th>461771</th>\n",
       "      <td>539992</td>\n",
       "      <td>22258</td>\n",
       "      <td>FELT FARM ANIMAL RABBIT</td>\n",
       "      <td>1</td>\n",
       "      <td>2010-12-23 17:41:00</td>\n",
       "      <td>1.25</td>\n",
       "      <td>NaN</td>\n",
       "    </tr>\n",
       "    <tr>\n",
       "      <th>461772</th>\n",
       "      <td>539992</td>\n",
       "      <td>21155</td>\n",
       "      <td>RED RETROSPOT PEG BAG</td>\n",
       "      <td>1</td>\n",
       "      <td>2010-12-23 17:41:00</td>\n",
       "      <td>2.10</td>\n",
       "      <td>NaN</td>\n",
       "    </tr>\n",
       "  </tbody>\n",
       "</table>\n",
       "<p>461773 rows × 7 columns</p>\n",
       "</div>"
      ],
      "text/plain": [
       "       order_id product_code                     product_name  quantity  \\\n",
       "0        493410      TEST001          This is a test product.         5   \n",
       "1       C493411        21539          RETRO SPOTS BUTTER DISH        -1   \n",
       "2        493412      TEST001          This is a test product.         5   \n",
       "3        493413        21724  PANDA AND BUNNIES STICKER SHEET         1   \n",
       "4        493413        84578   ELEPHANT TOY WITH BLUE T-SHIRT         1   \n",
       "...         ...          ...                              ...       ...   \n",
       "461768   539991        21618   4 WILDFLOWER BOTANICAL CANDLES         1   \n",
       "461769   539991        72741            GRAND CHOCOLATECANDLE         4   \n",
       "461770   539992        21470    FLOWER VINE RAFFIA FOOD COVER         1   \n",
       "461771   539992        22258          FELT FARM ANIMAL RABBIT         1   \n",
       "461772   539992        21155            RED RETROSPOT PEG BAG         1   \n",
       "\n",
       "                 order_date  price  customer_id  \n",
       "0       2010-01-04 09:24:00   4.50      12346.0  \n",
       "1       2010-01-04 09:43:00   4.25      14590.0  \n",
       "2       2010-01-04 09:53:00   4.50      12346.0  \n",
       "3       2010-01-04 09:54:00   0.85          NaN  \n",
       "4       2010-01-04 09:54:00   3.75          NaN  \n",
       "...                     ...    ...          ...  \n",
       "461768  2010-12-23 16:49:00   1.25          NaN  \n",
       "461769  2010-12-23 16:49:00   1.45          NaN  \n",
       "461770  2010-12-23 17:41:00   3.75          NaN  \n",
       "461771  2010-12-23 17:41:00   1.25          NaN  \n",
       "461772  2010-12-23 17:41:00   2.10          NaN  \n",
       "\n",
       "[461773 rows x 7 columns]"
      ]
     },
     "execution_count": 3,
     "metadata": {},
     "output_type": "execute_result"
    }
   ],
   "source": [
    "df = pd.read_csv('Online Retail Data.csv', header=0)\n",
    "df"
   ]
  },
  {
   "cell_type": "markdown",
   "id": "bcb2db12-45f4-4394-9105-ae7eff18f8c7",
   "metadata": {},
   "source": [
    "# Data cleansing"
   ]
  },
  {
   "cell_type": "code",
   "execution_count": 4,
   "id": "3741ccdd-9a53-4f03-95cb-32c09495a815",
   "metadata": {
    "execution": {
     "iopub.execute_input": "2022-10-27T09:09:00.707498Z",
     "iopub.status.busy": "2022-10-27T09:09:00.707181Z",
     "iopub.status.idle": "2022-10-27T09:09:03.699275Z",
     "shell.execute_reply": "2022-10-27T09:09:03.690478Z",
     "shell.execute_reply.started": "2022-10-27T09:09:00.707475Z"
    },
    "tags": []
   },
   "outputs": [
    {
     "data": {
      "text/html": [
       "<div>\n",
       "<style scoped>\n",
       "    .dataframe tbody tr th:only-of-type {\n",
       "        vertical-align: middle;\n",
       "    }\n",
       "\n",
       "    .dataframe tbody tr th {\n",
       "        vertical-align: top;\n",
       "    }\n",
       "\n",
       "    .dataframe thead th {\n",
       "        text-align: right;\n",
       "    }\n",
       "</style>\n",
       "<table border=\"1\" class=\"dataframe\">\n",
       "  <thead>\n",
       "    <tr style=\"text-align: right;\">\n",
       "      <th></th>\n",
       "      <th>order_id</th>\n",
       "      <th>product_code</th>\n",
       "      <th>product_name</th>\n",
       "      <th>quantity</th>\n",
       "      <th>order_date</th>\n",
       "      <th>price</th>\n",
       "      <th>customer_id</th>\n",
       "      <th>order_status</th>\n",
       "      <th>amount</th>\n",
       "    </tr>\n",
       "  </thead>\n",
       "  <tbody>\n",
       "    <tr>\n",
       "      <th>0</th>\n",
       "      <td>C493411</td>\n",
       "      <td>21539</td>\n",
       "      <td>red retrospot butter dish</td>\n",
       "      <td>1</td>\n",
       "      <td>2010-01-04 09:43:00</td>\n",
       "      <td>4.25</td>\n",
       "      <td>14590.0</td>\n",
       "      <td>cancelled</td>\n",
       "      <td>4.25</td>\n",
       "    </tr>\n",
       "    <tr>\n",
       "      <th>1</th>\n",
       "      <td>493413</td>\n",
       "      <td>21724</td>\n",
       "      <td>panda and bunnies sticker sheet</td>\n",
       "      <td>1</td>\n",
       "      <td>2010-01-04 09:54:00</td>\n",
       "      <td>0.85</td>\n",
       "      <td>nan</td>\n",
       "      <td>delivered</td>\n",
       "      <td>0.85</td>\n",
       "    </tr>\n",
       "    <tr>\n",
       "      <th>2</th>\n",
       "      <td>493413</td>\n",
       "      <td>84578</td>\n",
       "      <td>elephant toy with blue t-shirt</td>\n",
       "      <td>1</td>\n",
       "      <td>2010-01-04 09:54:00</td>\n",
       "      <td>3.75</td>\n",
       "      <td>nan</td>\n",
       "      <td>delivered</td>\n",
       "      <td>3.75</td>\n",
       "    </tr>\n",
       "    <tr>\n",
       "      <th>3</th>\n",
       "      <td>493413</td>\n",
       "      <td>21723</td>\n",
       "      <td>alphabet hearts sticker sheet</td>\n",
       "      <td>1</td>\n",
       "      <td>2010-01-04 09:54:00</td>\n",
       "      <td>0.85</td>\n",
       "      <td>nan</td>\n",
       "      <td>delivered</td>\n",
       "      <td>0.85</td>\n",
       "    </tr>\n",
       "    <tr>\n",
       "      <th>4</th>\n",
       "      <td>493414</td>\n",
       "      <td>21844</td>\n",
       "      <td>red retrospot mug</td>\n",
       "      <td>36</td>\n",
       "      <td>2010-01-04 10:28:00</td>\n",
       "      <td>2.55</td>\n",
       "      <td>14590.0</td>\n",
       "      <td>delivered</td>\n",
       "      <td>91.80</td>\n",
       "    </tr>\n",
       "    <tr>\n",
       "      <th>...</th>\n",
       "      <td>...</td>\n",
       "      <td>...</td>\n",
       "      <td>...</td>\n",
       "      <td>...</td>\n",
       "      <td>...</td>\n",
       "      <td>...</td>\n",
       "      <td>...</td>\n",
       "      <td>...</td>\n",
       "      <td>...</td>\n",
       "    </tr>\n",
       "    <tr>\n",
       "      <th>458241</th>\n",
       "      <td>539991</td>\n",
       "      <td>21618</td>\n",
       "      <td>4 wildflower botanical candles</td>\n",
       "      <td>1</td>\n",
       "      <td>2010-12-23 16:49:00</td>\n",
       "      <td>1.25</td>\n",
       "      <td>nan</td>\n",
       "      <td>delivered</td>\n",
       "      <td>1.25</td>\n",
       "    </tr>\n",
       "    <tr>\n",
       "      <th>458242</th>\n",
       "      <td>539991</td>\n",
       "      <td>72741</td>\n",
       "      <td>grand chocolatecandle</td>\n",
       "      <td>4</td>\n",
       "      <td>2010-12-23 16:49:00</td>\n",
       "      <td>1.45</td>\n",
       "      <td>nan</td>\n",
       "      <td>delivered</td>\n",
       "      <td>5.80</td>\n",
       "    </tr>\n",
       "    <tr>\n",
       "      <th>458243</th>\n",
       "      <td>539992</td>\n",
       "      <td>21470</td>\n",
       "      <td>flower vine raffia food cover</td>\n",
       "      <td>1</td>\n",
       "      <td>2010-12-23 17:41:00</td>\n",
       "      <td>3.75</td>\n",
       "      <td>nan</td>\n",
       "      <td>delivered</td>\n",
       "      <td>3.75</td>\n",
       "    </tr>\n",
       "    <tr>\n",
       "      <th>458244</th>\n",
       "      <td>539992</td>\n",
       "      <td>22258</td>\n",
       "      <td>felt farm animal rabbit</td>\n",
       "      <td>1</td>\n",
       "      <td>2010-12-23 17:41:00</td>\n",
       "      <td>1.25</td>\n",
       "      <td>nan</td>\n",
       "      <td>delivered</td>\n",
       "      <td>1.25</td>\n",
       "    </tr>\n",
       "    <tr>\n",
       "      <th>458245</th>\n",
       "      <td>539992</td>\n",
       "      <td>21155</td>\n",
       "      <td>red spotty peg bag</td>\n",
       "      <td>1</td>\n",
       "      <td>2010-12-23 17:41:00</td>\n",
       "      <td>2.10</td>\n",
       "      <td>nan</td>\n",
       "      <td>delivered</td>\n",
       "      <td>2.10</td>\n",
       "    </tr>\n",
       "  </tbody>\n",
       "</table>\n",
       "<p>458246 rows × 9 columns</p>\n",
       "</div>"
      ],
      "text/plain": [
       "       order_id product_code                     product_name  quantity  \\\n",
       "0       C493411        21539        red retrospot butter dish         1   \n",
       "1        493413        21724  panda and bunnies sticker sheet         1   \n",
       "2        493413        84578   elephant toy with blue t-shirt         1   \n",
       "3        493413        21723    alphabet hearts sticker sheet         1   \n",
       "4        493414        21844                red retrospot mug        36   \n",
       "...         ...          ...                              ...       ...   \n",
       "458241   539991        21618   4 wildflower botanical candles         1   \n",
       "458242   539991        72741            grand chocolatecandle         4   \n",
       "458243   539992        21470    flower vine raffia food cover         1   \n",
       "458244   539992        22258          felt farm animal rabbit         1   \n",
       "458245   539992        21155               red spotty peg bag         1   \n",
       "\n",
       "                 order_date  price customer_id order_status  amount  \n",
       "0       2010-01-04 09:43:00   4.25     14590.0    cancelled    4.25  \n",
       "1       2010-01-04 09:54:00   0.85         nan    delivered    0.85  \n",
       "2       2010-01-04 09:54:00   3.75         nan    delivered    3.75  \n",
       "3       2010-01-04 09:54:00   0.85         nan    delivered    0.85  \n",
       "4       2010-01-04 10:28:00   2.55     14590.0    delivered   91.80  \n",
       "...                     ...    ...         ...          ...     ...  \n",
       "458241  2010-12-23 16:49:00   1.25         nan    delivered    1.25  \n",
       "458242  2010-12-23 16:49:00   1.45         nan    delivered    5.80  \n",
       "458243  2010-12-23 17:41:00   3.75         nan    delivered    3.75  \n",
       "458244  2010-12-23 17:41:00   1.25         nan    delivered    1.25  \n",
       "458245  2010-12-23 17:41:00   2.10         nan    delivered    2.10  \n",
       "\n",
       "[458246 rows x 9 columns]"
      ]
     },
     "execution_count": 4,
     "metadata": {},
     "output_type": "execute_result"
    }
   ],
   "source": [
    "df_clean = df.copy()\n",
    "# menghapus semua baris tanpa product_name\n",
    "df_clean = df_clean[~df_clean['product_name'].isna()]\n",
    "# membuat semua product_name berhuruf kecil\n",
    "df_clean['product_name'] = df_clean['product_name'].str.lower()\n",
    "# menghapus semua baris dengan product_code atau product_name test\n",
    "df_clean = df_clean[(~df_clean['product_code'].str.lower().str.contains('test')) |\n",
    "                    (~df_clean['product_name'].str.contains('test '))]\n",
    "# membuat kolom order_status dengan nilai 'cancelled' jika order_id diawali dengan huruf 'c' dan 'delivered' jika order_id tanpa awalan huruf 'c'\n",
    "df_clean['order_status'] = np.where(df_clean['order_id'].str[:1]=='C', 'cancelled', 'delivered')\n",
    "# mengubah nilai quantity yang negatif menjadi positif karena nilai negatif tersebut hanya menandakan order tersebut cancelled\n",
    "df_clean['quantity'] = df_clean['quantity'].abs()\n",
    "# menghapus baris dengan price bernilai negatif\n",
    "df_clean = df_clean[df_clean['price']>0]\n",
    "# membuat nilai amount, yaitu perkalian antara quantity dan price\n",
    "df_clean['amount'] = df_clean['quantity'] * df_clean['price']\n",
    "# mengganti product_name dari product_code yang memiliki beberapa product_name dengan salah satu product_name-nya yang paling sering muncul\n",
    "most_freq_product_name = df_clean.groupby(['product_code','product_name'], as_index=False).agg(order_cnt=('order_id','nunique')).sort_values(['product_code','order_cnt'], ascending=[True,False])\n",
    "most_freq_product_name['rank'] = most_freq_product_name.groupby('product_code')['order_cnt'].rank(method='first', ascending=False)\n",
    "most_freq_product_name = most_freq_product_name[most_freq_product_name['rank']==1].drop(columns=['order_cnt','rank'])\n",
    "df_clean = df_clean.merge(most_freq_product_name.rename(columns={'product_name':'most_freq_product_name'}), how='left', on='product_code')\n",
    "df_clean['product_name'] = df_clean['most_freq_product_name']\n",
    "df_clean = df_clean.drop(columns='most_freq_product_name')\n",
    "# mengkonversi customer_id menjadi string\n",
    "df_clean['customer_id'] = df_clean['customer_id'].astype(str)\n",
    "df_clean = df_clean.reset_index(drop=True)\n",
    "df_clean"
   ]
  },
  {
   "cell_type": "markdown",
   "id": "71cc4605-87bd-45ed-b397-7ab6f71285f0",
   "metadata": {
    "tags": []
   },
   "source": [
    "# Hal yang sering dilakukan dalam EDA"
   ]
  },
  {
   "cell_type": "markdown",
   "id": "2eba008f-4ae4-4d40-82a5-efbbea0099ba",
   "metadata": {},
   "source": [
    "## Mengetahui banyak baris/record dan kolom/variabel/feature"
   ]
  },
  {
   "cell_type": "code",
   "execution_count": 5,
   "id": "5575e347-bd83-438b-8952-17f35c8b1406",
   "metadata": {
    "execution": {
     "iopub.execute_input": "2022-10-27T09:09:31.840143Z",
     "iopub.status.busy": "2022-10-27T09:09:31.839512Z",
     "iopub.status.idle": "2022-10-27T09:09:31.857057Z",
     "shell.execute_reply": "2022-10-27T09:09:31.850342Z",
     "shell.execute_reply.started": "2022-10-27T09:09:31.840099Z"
    },
    "tags": []
   },
   "outputs": [
    {
     "data": {
      "text/plain": [
       "(458246, 9)"
      ]
     },
     "execution_count": 5,
     "metadata": {},
     "output_type": "execute_result"
    }
   ],
   "source": [
    "df_clean.shape"
   ]
  },
  {
   "cell_type": "markdown",
   "id": "06eaf0e9-59de-4b74-8209-4a9faa042fe0",
   "metadata": {},
   "source": [
    "## Mengetahui tipe data dari setiap kolom"
   ]
  },
  {
   "cell_type": "code",
   "execution_count": 6,
   "id": "341dc183-bddc-403d-95c2-0d4c26fc70b7",
   "metadata": {
    "execution": {
     "iopub.execute_input": "2022-10-27T09:10:15.268287Z",
     "iopub.status.busy": "2022-10-27T09:10:15.268022Z",
     "iopub.status.idle": "2022-10-27T09:10:15.803109Z",
     "shell.execute_reply": "2022-10-27T09:10:15.802499Z",
     "shell.execute_reply.started": "2022-10-27T09:10:15.268260Z"
    },
    "tags": []
   },
   "outputs": [
    {
     "name": "stdout",
     "output_type": "stream",
     "text": [
      "<class 'pandas.core.frame.DataFrame'>\n",
      "RangeIndex: 458246 entries, 0 to 458245\n",
      "Data columns (total 9 columns):\n",
      " #   Column        Non-Null Count   Dtype  \n",
      "---  ------        --------------   -----  \n",
      " 0   order_id      458246 non-null  object \n",
      " 1   product_code  458246 non-null  object \n",
      " 2   product_name  458246 non-null  object \n",
      " 3   quantity      458246 non-null  int64  \n",
      " 4   order_date    458246 non-null  object \n",
      " 5   price         458246 non-null  float64\n",
      " 6   customer_id   458246 non-null  object \n",
      " 7   order_status  458246 non-null  object \n",
      " 8   amount        458246 non-null  float64\n",
      "dtypes: float64(2), int64(1), object(6)\n",
      "memory usage: 31.5+ MB\n"
     ]
    }
   ],
   "source": [
    "df_clean.info()"
   ]
  },
  {
   "cell_type": "markdown",
   "id": "f587ea0c-0265-4f6c-a698-b5a251e97083",
   "metadata": {
    "execution": {
     "iopub.execute_input": "2022-10-22T11:05:50.951453Z",
     "iopub.status.busy": "2022-10-22T11:05:50.951041Z",
     "iopub.status.idle": "2022-10-22T11:05:51.330749Z",
     "shell.execute_reply": "2022-10-22T11:05:51.329414Z",
     "shell.execute_reply.started": "2022-10-22T11:05:50.951413Z"
    },
    "tags": []
   },
   "source": [
    "## Mengetahui nilai unik dari kolom/variabel kategorikal"
   ]
  },
  {
   "cell_type": "code",
   "execution_count": 7,
   "id": "f922d192-248d-4594-8b07-d8be5cf66944",
   "metadata": {
    "execution": {
     "iopub.execute_input": "2022-10-27T09:12:22.942097Z",
     "iopub.status.busy": "2022-10-27T09:12:22.940192Z",
     "iopub.status.idle": "2022-10-27T09:12:23.052110Z",
     "shell.execute_reply": "2022-10-27T09:12:23.049875Z",
     "shell.execute_reply.started": "2022-10-27T09:12:22.942050Z"
    },
    "tags": []
   },
   "outputs": [
    {
     "data": {
      "text/plain": [
       "array(['cancelled', 'delivered'], dtype=object)"
      ]
     },
     "execution_count": 7,
     "metadata": {},
     "output_type": "execute_result"
    }
   ],
   "source": [
    "# tanpa informasi frekuensi dari masing-masing nilai unik\n",
    "df_clean['order_status'].unique()"
   ]
  },
  {
   "cell_type": "code",
   "execution_count": 8,
   "id": "20722b4a-fd44-4b99-a54d-35f7647b7d66",
   "metadata": {
    "execution": {
     "iopub.execute_input": "2022-10-27T09:12:55.241306Z",
     "iopub.status.busy": "2022-10-27T09:12:55.240823Z",
     "iopub.status.idle": "2022-10-27T09:12:55.345948Z",
     "shell.execute_reply": "2022-10-27T09:12:55.342624Z",
     "shell.execute_reply.started": "2022-10-27T09:12:55.241271Z"
    },
    "tags": []
   },
   "outputs": [
    {
     "data": {
      "text/plain": [
       "delivered    449996\n",
       "cancelled      8250\n",
       "Name: order_status, dtype: int64"
      ]
     },
     "execution_count": 8,
     "metadata": {},
     "output_type": "execute_result"
    }
   ],
   "source": [
    "# dengan informasi frekuensi dari masing-masing nilai unik\n",
    "df_clean['order_status'].value_counts()"
   ]
  },
  {
   "cell_type": "markdown",
   "id": "172c9031-f442-4de7-a7db-d88b17a6aeb0",
   "metadata": {},
   "source": [
    "# Menghitung descriptive statistics dari DataFrame"
   ]
  },
  {
   "cell_type": "markdown",
   "id": "44faafe4-99bd-4d44-afaf-dfb2a000abcf",
   "metadata": {},
   "source": [
    "## Mengetahui statistik dari distribusi data numerik di keseluruhan kolom pada DataFrame sekaligus secara kuantitatif"
   ]
  },
  {
   "cell_type": "code",
   "execution_count": 9,
   "id": "7bfa971b-d109-4e78-82ae-df9d30ca07d0",
   "metadata": {
    "execution": {
     "iopub.execute_input": "2022-10-27T09:16:44.464655Z",
     "iopub.status.busy": "2022-10-27T09:16:44.464002Z",
     "iopub.status.idle": "2022-10-27T09:16:44.569462Z",
     "shell.execute_reply": "2022-10-27T09:16:44.568015Z",
     "shell.execute_reply.started": "2022-10-27T09:16:44.464616Z"
    },
    "tags": []
   },
   "outputs": [
    {
     "data": {
      "text/html": [
       "<div>\n",
       "<style scoped>\n",
       "    .dataframe tbody tr th:only-of-type {\n",
       "        vertical-align: middle;\n",
       "    }\n",
       "\n",
       "    .dataframe tbody tr th {\n",
       "        vertical-align: top;\n",
       "    }\n",
       "\n",
       "    .dataframe thead th {\n",
       "        text-align: right;\n",
       "    }\n",
       "</style>\n",
       "<table border=\"1\" class=\"dataframe\">\n",
       "  <thead>\n",
       "    <tr style=\"text-align: right;\">\n",
       "      <th></th>\n",
       "      <th>quantity</th>\n",
       "      <th>price</th>\n",
       "      <th>amount</th>\n",
       "    </tr>\n",
       "  </thead>\n",
       "  <tbody>\n",
       "    <tr>\n",
       "      <th>count</th>\n",
       "      <td>458246.000000</td>\n",
       "      <td>458246.000000</td>\n",
       "      <td>458246.000000</td>\n",
       "    </tr>\n",
       "    <tr>\n",
       "      <th>mean</th>\n",
       "      <td>10.004764</td>\n",
       "      <td>4.903037</td>\n",
       "      <td>19.512293</td>\n",
       "    </tr>\n",
       "    <tr>\n",
       "      <th>std</th>\n",
       "      <td>61.180755</td>\n",
       "      <td>99.536887</td>\n",
       "      <td>118.566258</td>\n",
       "    </tr>\n",
       "    <tr>\n",
       "      <th>min</th>\n",
       "      <td>1.000000</td>\n",
       "      <td>0.001000</td>\n",
       "      <td>0.001000</td>\n",
       "    </tr>\n",
       "    <tr>\n",
       "      <th>25%</th>\n",
       "      <td>1.000000</td>\n",
       "      <td>1.250000</td>\n",
       "      <td>3.750000</td>\n",
       "    </tr>\n",
       "    <tr>\n",
       "      <th>50%</th>\n",
       "      <td>3.000000</td>\n",
       "      <td>2.100000</td>\n",
       "      <td>9.300000</td>\n",
       "    </tr>\n",
       "    <tr>\n",
       "      <th>75%</th>\n",
       "      <td>10.000000</td>\n",
       "      <td>4.210000</td>\n",
       "      <td>17.000000</td>\n",
       "    </tr>\n",
       "    <tr>\n",
       "      <th>max</th>\n",
       "      <td>10000.000000</td>\n",
       "      <td>25111.090000</td>\n",
       "      <td>25111.090000</td>\n",
       "    </tr>\n",
       "  </tbody>\n",
       "</table>\n",
       "</div>"
      ],
      "text/plain": [
       "            quantity          price         amount\n",
       "count  458246.000000  458246.000000  458246.000000\n",
       "mean       10.004764       4.903037      19.512293\n",
       "std        61.180755      99.536887     118.566258\n",
       "min         1.000000       0.001000       0.001000\n",
       "25%         1.000000       1.250000       3.750000\n",
       "50%         3.000000       2.100000       9.300000\n",
       "75%        10.000000       4.210000      17.000000\n",
       "max     10000.000000   25111.090000   25111.090000"
      ]
     },
     "execution_count": 9,
     "metadata": {},
     "output_type": "execute_result"
    }
   ],
   "source": [
    "df_clean.describe()"
   ]
  },
  {
   "cell_type": "markdown",
   "id": "1d31cac8-d1dc-4cd6-b49b-c42c086fd1f5",
   "metadata": {
    "tags": []
   },
   "source": [
    "## Mengetahui statistik tertentu secara individual"
   ]
  },
  {
   "cell_type": "code",
   "execution_count": 10,
   "id": "0c1bcc39-0aa6-4a62-b41a-f0811e6fdc6d",
   "metadata": {
    "execution": {
     "iopub.execute_input": "2022-10-27T09:20:32.919496Z",
     "iopub.status.busy": "2022-10-27T09:20:32.919176Z",
     "iopub.status.idle": "2022-10-27T09:20:32.959863Z",
     "shell.execute_reply": "2022-10-27T09:20:32.958717Z",
     "shell.execute_reply.started": "2022-10-27T09:20:32.919465Z"
    },
    "tags": []
   },
   "outputs": [
    {
     "data": {
      "text/plain": [
       "458246"
      ]
     },
     "execution_count": 10,
     "metadata": {},
     "output_type": "execute_result"
    }
   ],
   "source": [
    "# frekuensi (frequency) - tak unik\n",
    "df_clean['order_id'].count()"
   ]
  },
  {
   "cell_type": "code",
   "execution_count": 11,
   "id": "8977e20e-57a8-49fd-9699-9e72557bd0df",
   "metadata": {
    "execution": {
     "iopub.execute_input": "2022-10-27T09:21:16.751347Z",
     "iopub.status.busy": "2022-10-27T09:21:16.750906Z",
     "iopub.status.idle": "2022-10-27T09:21:16.812109Z",
     "shell.execute_reply": "2022-10-27T09:21:16.811098Z",
     "shell.execute_reply.started": "2022-10-27T09:21:16.751322Z"
    },
    "tags": []
   },
   "outputs": [
    {
     "data": {
      "text/plain": [
       "22244"
      ]
     },
     "execution_count": 11,
     "metadata": {},
     "output_type": "execute_result"
    }
   ],
   "source": [
    "# frekuensi (frequency) - unik\n",
    "df_clean['order_id'].nunique()"
   ]
  },
  {
   "cell_type": "code",
   "execution_count": 12,
   "id": "c5df3ed4-44f7-4dba-822a-fbf29cbf5f51",
   "metadata": {
    "execution": {
     "iopub.execute_input": "2022-10-27T09:21:45.265874Z",
     "iopub.status.busy": "2022-10-27T09:21:45.265601Z",
     "iopub.status.idle": "2022-10-27T09:21:45.283707Z",
     "shell.execute_reply": "2022-10-27T09:21:45.280729Z",
     "shell.execute_reply.started": "2022-10-27T09:21:45.265846Z"
    },
    "tags": []
   },
   "outputs": [
    {
     "data": {
      "text/plain": [
       "4584643"
      ]
     },
     "execution_count": 12,
     "metadata": {},
     "output_type": "execute_result"
    }
   ],
   "source": [
    "# jumlahan (sum)\n",
    "df_clean['quantity'].sum()"
   ]
  },
  {
   "cell_type": "code",
   "execution_count": 13,
   "id": "bb4454f6-8efa-4c80-8eb0-cebad50df008",
   "metadata": {
    "execution": {
     "iopub.execute_input": "2022-10-27T09:22:29.015175Z",
     "iopub.status.busy": "2022-10-27T09:22:29.013667Z",
     "iopub.status.idle": "2022-10-27T09:22:29.464710Z",
     "shell.execute_reply": "2022-10-27T09:22:29.461995Z",
     "shell.execute_reply.started": "2022-10-27T09:22:29.015138Z"
    },
    "tags": []
   },
   "outputs": [
    {
     "data": {
      "text/plain": [
       "166722"
      ]
     },
     "execution_count": 13,
     "metadata": {},
     "output_type": "execute_result"
    }
   ],
   "source": [
    "# jumlahan (sum) subset dari data\n",
    "df_clean.loc[df_clean['product_name'].str.contains('tea'), 'quantity'].sum()"
   ]
  },
  {
   "cell_type": "code",
   "execution_count": 14,
   "id": "2d67feb1-7f6e-4cc4-9b83-c28984ada47c",
   "metadata": {
    "execution": {
     "iopub.execute_input": "2022-10-27T09:23:18.881501Z",
     "iopub.status.busy": "2022-10-27T09:23:18.880422Z",
     "iopub.status.idle": "2022-10-27T09:23:18.894941Z",
     "shell.execute_reply": "2022-10-27T09:23:18.893919Z",
     "shell.execute_reply.started": "2022-10-27T09:23:18.881460Z"
    },
    "tags": []
   },
   "outputs": [
    {
     "data": {
      "text/plain": [
       "10.004763816814549"
      ]
     },
     "execution_count": 14,
     "metadata": {},
     "output_type": "execute_result"
    }
   ],
   "source": [
    "# rata-rata (mean)\n",
    "df_clean['quantity'].mean()"
   ]
  },
  {
   "cell_type": "code",
   "execution_count": 15,
   "id": "4aa4fd34-1a79-4ffc-b05a-2c5e10e0f1b5",
   "metadata": {
    "execution": {
     "iopub.execute_input": "2022-10-27T09:23:29.931166Z",
     "iopub.status.busy": "2022-10-27T09:23:29.929480Z",
     "iopub.status.idle": "2022-10-27T09:23:30.466232Z",
     "shell.execute_reply": "2022-10-27T09:23:30.464871Z",
     "shell.execute_reply.started": "2022-10-27T09:23:29.931122Z"
    },
    "tags": []
   },
   "outputs": [
    {
     "data": {
      "text/plain": [
       "9.657205746061168"
      ]
     },
     "execution_count": 15,
     "metadata": {},
     "output_type": "execute_result"
    }
   ],
   "source": [
    "# rata-rata (mean) subset dari data\n",
    "df_clean.loc[df_clean['product_name'].str.contains('tea'), 'quantity'].mean()"
   ]
  },
  {
   "cell_type": "code",
   "execution_count": 16,
   "id": "e8f79fd1-209c-4ee7-aa1c-d7fb741fcbce",
   "metadata": {
    "execution": {
     "iopub.execute_input": "2022-10-27T09:23:32.626828Z",
     "iopub.status.busy": "2022-10-27T09:23:32.626562Z",
     "iopub.status.idle": "2022-10-27T09:23:32.695007Z",
     "shell.execute_reply": "2022-10-27T09:23:32.679625Z",
     "shell.execute_reply.started": "2022-10-27T09:23:32.626804Z"
    },
    "tags": []
   },
   "outputs": [
    {
     "data": {
      "text/plain": [
       "3.0"
      ]
     },
     "execution_count": 16,
     "metadata": {},
     "output_type": "execute_result"
    }
   ],
   "source": [
    "# median\n",
    "df_clean['quantity'].median()"
   ]
  },
  {
   "cell_type": "code",
   "execution_count": 17,
   "id": "5d7dde9d-0df9-4eab-95ba-9ae4ba20a407",
   "metadata": {
    "execution": {
     "iopub.execute_input": "2022-10-27T09:23:33.749847Z",
     "iopub.status.busy": "2022-10-27T09:23:33.746994Z",
     "iopub.status.idle": "2022-10-27T09:23:34.086047Z",
     "shell.execute_reply": "2022-10-27T09:23:34.083569Z",
     "shell.execute_reply.started": "2022-10-27T09:23:33.749779Z"
    },
    "tags": []
   },
   "outputs": [
    {
     "data": {
      "text/plain": [
       "3.0"
      ]
     },
     "execution_count": 17,
     "metadata": {},
     "output_type": "execute_result"
    }
   ],
   "source": [
    "# median subset dari data\n",
    "df_clean.loc[df_clean['product_name'].str.contains('tea'), 'quantity'].median()"
   ]
  },
  {
   "cell_type": "code",
   "execution_count": 18,
   "id": "a580c20e-53bd-4d94-8d8e-6fb507acaedc",
   "metadata": {
    "execution": {
     "iopub.execute_input": "2022-10-27T09:23:35.673591Z",
     "iopub.status.busy": "2022-10-27T09:23:35.671264Z",
     "iopub.status.idle": "2022-10-27T09:23:35.707167Z",
     "shell.execute_reply": "2022-10-27T09:23:35.696765Z",
     "shell.execute_reply.started": "2022-10-27T09:23:35.673556Z"
    },
    "tags": []
   },
   "outputs": [
    {
     "data": {
      "text/plain": [
       "1"
      ]
     },
     "execution_count": 18,
     "metadata": {},
     "output_type": "execute_result"
    }
   ],
   "source": [
    "# modus (mode)\n",
    "df_clean['quantity'].mode()[0]"
   ]
  },
  {
   "cell_type": "code",
   "execution_count": 19,
   "id": "70435a63-18f2-44d1-af75-b36ab1580b71",
   "metadata": {
    "execution": {
     "iopub.execute_input": "2022-10-27T09:23:36.440835Z",
     "iopub.status.busy": "2022-10-27T09:23:36.440502Z",
     "iopub.status.idle": "2022-10-27T09:23:36.832542Z",
     "shell.execute_reply": "2022-10-27T09:23:36.830945Z",
     "shell.execute_reply.started": "2022-10-27T09:23:36.440800Z"
    },
    "tags": []
   },
   "outputs": [
    {
     "data": {
      "text/plain": [
       "1"
      ]
     },
     "execution_count": 19,
     "metadata": {},
     "output_type": "execute_result"
    }
   ],
   "source": [
    "# modus (mode) subset dari data\n",
    "df_clean.loc[df_clean['product_name'].str.contains('tea'), 'quantity'].mode()[0]"
   ]
  },
  {
   "cell_type": "code",
   "execution_count": 20,
   "id": "4eb0f030-78c3-4ec6-b61d-dbf8c6e7f01d",
   "metadata": {
    "execution": {
     "iopub.execute_input": "2022-10-27T09:24:44.125778Z",
     "iopub.status.busy": "2022-10-27T09:24:44.125311Z",
     "iopub.status.idle": "2022-10-27T09:24:44.156838Z",
     "shell.execute_reply": "2022-10-27T09:24:44.145085Z",
     "shell.execute_reply.started": "2022-10-27T09:24:44.125746Z"
    },
    "tags": []
   },
   "outputs": [
    {
     "data": {
      "text/plain": [
       "9999"
      ]
     },
     "execution_count": 20,
     "metadata": {},
     "output_type": "execute_result"
    }
   ],
   "source": [
    "# jangkauan (range)\n",
    "df_clean['quantity'].max() - df_clean['quantity'].min()"
   ]
  },
  {
   "cell_type": "code",
   "execution_count": 21,
   "id": "ce1daec8-3bf9-46a3-aa61-0e3705ceb6cd",
   "metadata": {
    "execution": {
     "iopub.execute_input": "2022-10-27T09:24:56.811382Z",
     "iopub.status.busy": "2022-10-27T09:24:56.811059Z",
     "iopub.status.idle": "2022-10-27T09:24:57.411476Z",
     "shell.execute_reply": "2022-10-27T09:24:57.408656Z",
     "shell.execute_reply.started": "2022-10-27T09:24:56.811351Z"
    },
    "tags": []
   },
   "outputs": [
    {
     "data": {
      "text/plain": [
       "4607"
      ]
     },
     "execution_count": 21,
     "metadata": {},
     "output_type": "execute_result"
    }
   ],
   "source": [
    "# jangkauan (range) subset dari data\n",
    "df_clean.loc[df_clean['product_name'].str.contains('tea'), 'quantity'].max() - df_clean.loc[df_clean['product_name'].str.contains('tea'), 'quantity'].min()"
   ]
  },
  {
   "cell_type": "code",
   "execution_count": 22,
   "id": "54fbff3f-204a-4293-8b94-26eb3be2e7a7",
   "metadata": {
    "execution": {
     "iopub.execute_input": "2022-10-27T09:25:26.200437Z",
     "iopub.status.busy": "2022-10-27T09:25:26.199934Z",
     "iopub.status.idle": "2022-10-27T09:25:26.222808Z",
     "shell.execute_reply": "2022-10-27T09:25:26.220395Z",
     "shell.execute_reply.started": "2022-10-27T09:25:26.200268Z"
    },
    "tags": []
   },
   "outputs": [
    {
     "data": {
      "text/plain": [
       "61.18075511600227"
      ]
     },
     "execution_count": 22,
     "metadata": {},
     "output_type": "execute_result"
    }
   ],
   "source": [
    "# simpangan baku (standard deviation)\n",
    "df_clean['quantity'].std()"
   ]
  },
  {
   "cell_type": "code",
   "execution_count": 23,
   "id": "6c331aa7-6a53-409e-a734-d701b4edfadf",
   "metadata": {
    "execution": {
     "iopub.execute_input": "2022-10-27T09:25:27.418684Z",
     "iopub.status.busy": "2022-10-27T09:25:27.417221Z",
     "iopub.status.idle": "2022-10-27T09:25:27.753152Z",
     "shell.execute_reply": "2022-10-27T09:25:27.752396Z",
     "shell.execute_reply.started": "2022-10-27T09:25:27.418643Z"
    },
    "tags": []
   },
   "outputs": [
    {
     "data": {
      "text/plain": [
       "44.8225496763168"
      ]
     },
     "execution_count": 23,
     "metadata": {},
     "output_type": "execute_result"
    }
   ],
   "source": [
    "# simpangan baku (standard deviation) subset dari data\n",
    "df_clean.loc[df_clean['product_name'].str.contains('tea'), 'quantity'].std()"
   ]
  },
  {
   "cell_type": "code",
   "execution_count": 24,
   "id": "c8a11913-7695-425e-be42-83ed7ec2a230",
   "metadata": {
    "execution": {
     "iopub.execute_input": "2022-10-27T09:25:28.935140Z",
     "iopub.status.busy": "2022-10-27T09:25:28.934351Z",
     "iopub.status.idle": "2022-10-27T09:25:28.954163Z",
     "shell.execute_reply": "2022-10-27T09:25:28.953426Z",
     "shell.execute_reply.started": "2022-10-27T09:25:28.935101Z"
    },
    "tags": []
   },
   "outputs": [
    {
     "data": {
      "text/plain": [
       "3743.084796564238"
      ]
     },
     "execution_count": 24,
     "metadata": {},
     "output_type": "execute_result"
    }
   ],
   "source": [
    "# varians (variance)\n",
    "df_clean['quantity'].var()"
   ]
  },
  {
   "cell_type": "code",
   "execution_count": 25,
   "id": "1448fd68-2a2b-429a-86ec-f5dc1a7bb7fb",
   "metadata": {
    "execution": {
     "iopub.execute_input": "2022-10-27T09:25:47.262257Z",
     "iopub.status.busy": "2022-10-27T09:25:47.260369Z",
     "iopub.status.idle": "2022-10-27T09:25:47.274417Z",
     "shell.execute_reply": "2022-10-27T09:25:47.273661Z",
     "shell.execute_reply.started": "2022-10-27T09:25:47.262203Z"
    },
    "tags": []
   },
   "outputs": [
    {
     "data": {
      "text/plain": [
       "3743.0847965642374"
      ]
     },
     "execution_count": 25,
     "metadata": {},
     "output_type": "execute_result"
    }
   ],
   "source": [
    "df_clean['quantity'].std()**2"
   ]
  },
  {
   "cell_type": "code",
   "execution_count": 78,
   "id": "f5e2444f-3a5d-4b74-b018-dd458056d51c",
   "metadata": {
    "execution": {
     "iopub.execute_input": "2022-10-26T15:35:58.675320Z",
     "iopub.status.busy": "2022-10-26T15:35:58.675030Z",
     "iopub.status.idle": "2022-10-26T15:35:58.860717Z",
     "shell.execute_reply": "2022-10-26T15:35:58.859776Z",
     "shell.execute_reply.started": "2022-10-26T15:35:58.675295Z"
    }
   },
   "outputs": [
    {
     "data": {
      "text/plain": [
       "2009.0609594858872"
      ]
     },
     "execution_count": 78,
     "metadata": {},
     "output_type": "execute_result"
    }
   ],
   "source": [
    "# varians (variance) subset dari data\n",
    "df_clean.loc[df_clean['product_name'].str.contains('tea'), 'quantity'].var()"
   ]
  },
  {
   "cell_type": "code",
   "execution_count": 26,
   "id": "8b246141-0387-4407-8848-2ddd8ff83691",
   "metadata": {
    "execution": {
     "iopub.execute_input": "2022-10-27T09:26:30.535756Z",
     "iopub.status.busy": "2022-10-27T09:26:30.535277Z",
     "iopub.status.idle": "2022-10-27T09:26:30.578077Z",
     "shell.execute_reply": "2022-10-27T09:26:30.575562Z",
     "shell.execute_reply.started": "2022-10-27T09:26:30.535725Z"
    },
    "tags": []
   },
   "outputs": [
    {
     "data": {
      "text/plain": [
       "1.0"
      ]
     },
     "execution_count": 26,
     "metadata": {},
     "output_type": "execute_result"
    }
   ],
   "source": [
    "# kuartil bawah (lower quartile)\n",
    "df_clean['quantity'].quantile(.25)"
   ]
  },
  {
   "cell_type": "code",
   "execution_count": 27,
   "id": "a4e99710-3941-4e72-9861-1a11892bd135",
   "metadata": {
    "execution": {
     "iopub.execute_input": "2022-10-27T09:26:31.737718Z",
     "iopub.status.busy": "2022-10-27T09:26:31.737375Z",
     "iopub.status.idle": "2022-10-27T09:26:32.095449Z",
     "shell.execute_reply": "2022-10-27T09:26:32.073627Z",
     "shell.execute_reply.started": "2022-10-27T09:26:31.737683Z"
    },
    "tags": []
   },
   "outputs": [
    {
     "data": {
      "text/plain": [
       "1.0"
      ]
     },
     "execution_count": 27,
     "metadata": {},
     "output_type": "execute_result"
    }
   ],
   "source": [
    "# kuartil bawah (lower quartile) subset dari data\n",
    "df_clean.loc[df_clean['product_name'].str.contains('tea'), 'quantity'].quantile(.25)"
   ]
  },
  {
   "cell_type": "code",
   "execution_count": 28,
   "id": "99bd2f69-92a7-44c0-a279-27419b38f34a",
   "metadata": {
    "execution": {
     "iopub.execute_input": "2022-10-27T09:26:40.477562Z",
     "iopub.status.busy": "2022-10-27T09:26:40.476910Z",
     "iopub.status.idle": "2022-10-27T09:26:40.547476Z",
     "shell.execute_reply": "2022-10-27T09:26:40.542206Z",
     "shell.execute_reply.started": "2022-10-27T09:26:40.477524Z"
    },
    "tags": []
   },
   "outputs": [
    {
     "data": {
      "text/plain": [
       "10.0"
      ]
     },
     "execution_count": 28,
     "metadata": {},
     "output_type": "execute_result"
    }
   ],
   "source": [
    "# kuartil atas (upper quartile)\n",
    "df_clean['quantity'].quantile(.75)"
   ]
  },
  {
   "cell_type": "code",
   "execution_count": 29,
   "id": "51532f10-216d-4f54-b5c1-3e249a461abd",
   "metadata": {
    "execution": {
     "iopub.execute_input": "2022-10-27T09:26:41.191939Z",
     "iopub.status.busy": "2022-10-27T09:26:41.191280Z",
     "iopub.status.idle": "2022-10-27T09:26:41.593817Z",
     "shell.execute_reply": "2022-10-27T09:26:41.587554Z",
     "shell.execute_reply.started": "2022-10-27T09:26:41.191897Z"
    },
    "tags": []
   },
   "outputs": [
    {
     "data": {
      "text/plain": [
       "8.0"
      ]
     },
     "execution_count": 29,
     "metadata": {},
     "output_type": "execute_result"
    }
   ],
   "source": [
    "# kuartil atas (upper quartile) subset dari data\n",
    "df_clean.loc[df_clean['product_name'].str.contains('tea'), 'quantity'].quantile(.75)"
   ]
  },
  {
   "cell_type": "code",
   "execution_count": 30,
   "id": "6afcb4e5-e20b-4223-adff-c51fb9486ef0",
   "metadata": {
    "execution": {
     "iopub.execute_input": "2022-10-27T09:26:49.581029Z",
     "iopub.status.busy": "2022-10-27T09:26:49.580567Z",
     "iopub.status.idle": "2022-10-27T09:26:49.667191Z",
     "shell.execute_reply": "2022-10-27T09:26:49.660826Z",
     "shell.execute_reply.started": "2022-10-27T09:26:49.580997Z"
    },
    "tags": []
   },
   "outputs": [
    {
     "data": {
      "text/plain": [
       "9.0"
      ]
     },
     "execution_count": 30,
     "metadata": {},
     "output_type": "execute_result"
    }
   ],
   "source": [
    "# jangkauan interkuartil (interquartile range)\n",
    "df_clean['quantity'].quantile(.75) - df_clean['quantity'].quantile(.25)"
   ]
  },
  {
   "cell_type": "code",
   "execution_count": 31,
   "id": "0ae7f7d6-30c0-441d-8a30-45c3bebc9dc4",
   "metadata": {
    "execution": {
     "iopub.execute_input": "2022-10-27T09:26:50.739712Z",
     "iopub.status.busy": "2022-10-27T09:26:50.739365Z",
     "iopub.status.idle": "2022-10-27T09:26:51.293970Z",
     "shell.execute_reply": "2022-10-27T09:26:51.293352Z",
     "shell.execute_reply.started": "2022-10-27T09:26:50.739681Z"
    },
    "tags": []
   },
   "outputs": [
    {
     "data": {
      "text/plain": [
       "7.0"
      ]
     },
     "execution_count": 31,
     "metadata": {},
     "output_type": "execute_result"
    }
   ],
   "source": [
    "# jangkauan interkuartil (interquartile range) subset dari data\n",
    "df_clean.loc[df_clean['product_name'].str.contains('tea'), 'quantity'].quantile(.75) - df_clean.loc[df_clean['product_name'].str.contains('tea'), 'quantity'].quantile(.25)"
   ]
  },
  {
   "cell_type": "code",
   "execution_count": 32,
   "id": "1f278b55-72a8-4731-bf43-1ccb8a3b580c",
   "metadata": {
    "execution": {
     "iopub.execute_input": "2022-10-27T09:27:56.927263Z",
     "iopub.status.busy": "2022-10-27T09:27:56.926847Z",
     "iopub.status.idle": "2022-10-27T09:27:56.934007Z",
     "shell.execute_reply": "2022-10-27T09:27:56.930492Z",
     "shell.execute_reply.started": "2022-10-27T09:27:56.927233Z"
    },
    "tags": []
   },
   "outputs": [],
   "source": [
    "def iqr(x):\n",
    "    q1 = x.quantile(.25)\n",
    "    q3 = x.quantile(.75)\n",
    "    return q3-q1"
   ]
  },
  {
   "cell_type": "code",
   "execution_count": 33,
   "id": "20428cfb-8378-49bb-9017-777b82c4ba2e",
   "metadata": {
    "execution": {
     "iopub.execute_input": "2022-10-27T09:28:17.858526Z",
     "iopub.status.busy": "2022-10-27T09:28:17.858076Z",
     "iopub.status.idle": "2022-10-27T09:28:18.374420Z",
     "shell.execute_reply": "2022-10-27T09:28:18.356157Z",
     "shell.execute_reply.started": "2022-10-27T09:28:17.858483Z"
    },
    "tags": []
   },
   "outputs": [
    {
     "data": {
      "text/plain": [
       "7.0"
      ]
     },
     "execution_count": 33,
     "metadata": {},
     "output_type": "execute_result"
    }
   ],
   "source": [
    "iqr(df_clean.loc[df_clean['product_name'].str.contains('tea'), 'quantity'])"
   ]
  },
  {
   "cell_type": "markdown",
   "id": "fe352993-3466-4908-a61c-2946ca74534d",
   "metadata": {},
   "source": [
    "# Menghitung descriptive statistics dengan grouping"
   ]
  },
  {
   "cell_type": "markdown",
   "id": "1f84d8a1-6626-488a-8185-8d1009f0dd5a",
   "metadata": {},
   "source": [
    "## Agregat dari 1 kolom saja"
   ]
  },
  {
   "cell_type": "code",
   "execution_count": 34,
   "id": "522e8a59-6102-4df4-bb89-889e1f7159df",
   "metadata": {
    "execution": {
     "iopub.execute_input": "2022-10-27T09:33:23.303562Z",
     "iopub.status.busy": "2022-10-27T09:33:23.296984Z",
     "iopub.status.idle": "2022-10-27T09:33:23.829534Z",
     "shell.execute_reply": "2022-10-27T09:33:23.825147Z",
     "shell.execute_reply.started": "2022-10-27T09:33:23.303519Z"
    },
    "tags": []
   },
   "outputs": [
    {
     "data": {
      "text/plain": [
       "product_name\n",
       "60 teatime fairy cake cases           27584\n",
       "antique silver tea glass etched       17190\n",
       "moroccan tea glass                     7218\n",
       "antique silver tea glass engraved      6941\n",
       "potting shed tea mug                   6222\n",
       "                                      ...  \n",
       "english rose tea set in gift box          5\n",
       "light topaz teal/aqua col necklace        4\n",
       "ceramic cake teapot with cherry           3\n",
       "dotcomgiftshop tea towel                  2\n",
       "teatime round cake tins                   1\n",
       "Name: quantity, Length: 87, dtype: int64"
      ]
     },
     "execution_count": 34,
     "metadata": {},
     "output_type": "execute_result"
    }
   ],
   "source": [
    "# dengan 1 kolom sebagai grouping\n",
    "df_clean.loc[df_clean['product_name'].str.contains('tea')].groupby('product_name')['quantity'].sum().sort_values(ascending=False)"
   ]
  },
  {
   "cell_type": "code",
   "execution_count": 95,
   "id": "d9229672-7cd3-4f56-80d3-ef8ef2f2a82c",
   "metadata": {
    "execution": {
     "iopub.execute_input": "2022-10-26T15:52:02.406863Z",
     "iopub.status.busy": "2022-10-26T15:52:02.406447Z",
     "iopub.status.idle": "2022-10-26T15:52:02.619366Z",
     "shell.execute_reply": "2022-10-26T15:52:02.616422Z",
     "shell.execute_reply.started": "2022-10-26T15:52:02.406835Z"
    },
    "tags": []
   },
   "outputs": [
    {
     "data": {
      "text/html": [
       "<div>\n",
       "<style scoped>\n",
       "    .dataframe tbody tr th:only-of-type {\n",
       "        vertical-align: middle;\n",
       "    }\n",
       "\n",
       "    .dataframe tbody tr th {\n",
       "        vertical-align: top;\n",
       "    }\n",
       "\n",
       "    .dataframe thead th {\n",
       "        text-align: right;\n",
       "    }\n",
       "</style>\n",
       "<table border=\"1\" class=\"dataframe\">\n",
       "  <thead>\n",
       "    <tr style=\"text-align: right;\">\n",
       "      <th></th>\n",
       "      <th>product_name</th>\n",
       "      <th>quantity</th>\n",
       "    </tr>\n",
       "  </thead>\n",
       "  <tbody>\n",
       "    <tr>\n",
       "      <th>0</th>\n",
       "      <td>60 teatime fairy cake cases</td>\n",
       "      <td>27584</td>\n",
       "    </tr>\n",
       "    <tr>\n",
       "      <th>2</th>\n",
       "      <td>antique silver tea glass etched</td>\n",
       "      <td>17190</td>\n",
       "    </tr>\n",
       "    <tr>\n",
       "      <th>30</th>\n",
       "      <td>moroccan tea glass</td>\n",
       "      <td>7218</td>\n",
       "    </tr>\n",
       "    <tr>\n",
       "      <th>1</th>\n",
       "      <td>antique silver tea glass engraved</td>\n",
       "      <td>6941</td>\n",
       "    </tr>\n",
       "    <tr>\n",
       "      <th>35</th>\n",
       "      <td>potting shed tea mug</td>\n",
       "      <td>6222</td>\n",
       "    </tr>\n",
       "    <tr>\n",
       "      <th>...</th>\n",
       "      <td>...</td>\n",
       "      <td>...</td>\n",
       "    </tr>\n",
       "    <tr>\n",
       "      <th>17</th>\n",
       "      <td>english rose tea set in gift box</td>\n",
       "      <td>5</td>\n",
       "    </tr>\n",
       "    <tr>\n",
       "      <th>27</th>\n",
       "      <td>light topaz teal/aqua col necklace</td>\n",
       "      <td>4</td>\n",
       "    </tr>\n",
       "    <tr>\n",
       "      <th>10</th>\n",
       "      <td>ceramic cake teapot with cherry</td>\n",
       "      <td>3</td>\n",
       "    </tr>\n",
       "    <tr>\n",
       "      <th>13</th>\n",
       "      <td>dotcomgiftshop tea towel</td>\n",
       "      <td>2</td>\n",
       "    </tr>\n",
       "    <tr>\n",
       "      <th>81</th>\n",
       "      <td>teatime round cake tins</td>\n",
       "      <td>1</td>\n",
       "    </tr>\n",
       "  </tbody>\n",
       "</table>\n",
       "<p>87 rows × 2 columns</p>\n",
       "</div>"
      ],
      "text/plain": [
       "                          product_name  quantity\n",
       "0          60 teatime fairy cake cases     27584\n",
       "2      antique silver tea glass etched     17190\n",
       "30                  moroccan tea glass      7218\n",
       "1    antique silver tea glass engraved      6941\n",
       "35                potting shed tea mug      6222\n",
       "..                                 ...       ...\n",
       "17    english rose tea set in gift box         5\n",
       "27  light topaz teal/aqua col necklace         4\n",
       "10     ceramic cake teapot with cherry         3\n",
       "13            dotcomgiftshop tea towel         2\n",
       "81             teatime round cake tins         1\n",
       "\n",
       "[87 rows x 2 columns]"
      ]
     },
     "execution_count": 95,
     "metadata": {},
     "output_type": "execute_result"
    }
   ],
   "source": [
    "df_clean.loc[df_clean['product_name'].str.contains('tea')].groupby('product_name', as_index=False)['quantity'].sum().sort_values('quantity', ascending=False)"
   ]
  },
  {
   "cell_type": "code",
   "execution_count": 36,
   "id": "086ce625-7041-46bb-93a2-a864e73e765c",
   "metadata": {
    "execution": {
     "iopub.execute_input": "2022-10-27T09:39:10.855544Z",
     "iopub.status.busy": "2022-10-27T09:39:10.855275Z",
     "iopub.status.idle": "2022-10-27T09:39:11.261823Z",
     "shell.execute_reply": "2022-10-27T09:39:11.260643Z",
     "shell.execute_reply.started": "2022-10-27T09:39:10.855520Z"
    },
    "tags": []
   },
   "outputs": [
    {
     "data": {
      "text/plain": [
       "product_name                       order_status\n",
       "60 teatime fairy cake cases        delivered       27432\n",
       "antique silver tea glass etched    delivered       17083\n",
       "moroccan tea glass                 delivered        7129\n",
       "antique silver tea glass engraved  delivered        6935\n",
       "potting shed tea mug               delivered        6113\n",
       "                                                   ...  \n",
       "tea time mug in gift box           cancelled           1\n",
       "tea time breakfast basket          cancelled           1\n",
       "metal sign empire tea              cancelled           1\n",
       "white tea,coffee,sugar jars        cancelled           1\n",
       "set 2 tea towels i love london     cancelled           1\n",
       "Name: quantity, Length: 139, dtype: int64"
      ]
     },
     "execution_count": 36,
     "metadata": {},
     "output_type": "execute_result"
    }
   ],
   "source": [
    "# agregat dengan lebih dari 1 kolom sebagai grouping\n",
    "df_clean.loc[df_clean['product_name'].str.contains('tea')].groupby(['product_name','order_status'])['quantity'].sum().sort_values(ascending=False)"
   ]
  },
  {
   "cell_type": "markdown",
   "id": "06e60fea-151f-49f4-bc49-4029bca4b5dc",
   "metadata": {},
   "source": [
    "## Agregat dari beberapa kolom"
   ]
  },
  {
   "cell_type": "code",
   "execution_count": 35,
   "id": "509dcafb-c137-4d49-a804-da78e29f78dc",
   "metadata": {
    "execution": {
     "iopub.execute_input": "2022-10-27T09:37:33.415024Z",
     "iopub.status.busy": "2022-10-27T09:37:33.414674Z",
     "iopub.status.idle": "2022-10-27T09:37:33.821003Z",
     "shell.execute_reply": "2022-10-27T09:37:33.806336Z",
     "shell.execute_reply.started": "2022-10-27T09:37:33.414989Z"
    },
    "tags": []
   },
   "outputs": [
    {
     "data": {
      "text/html": [
       "<div>\n",
       "<style scoped>\n",
       "    .dataframe tbody tr th:only-of-type {\n",
       "        vertical-align: middle;\n",
       "    }\n",
       "\n",
       "    .dataframe tbody tr th {\n",
       "        vertical-align: top;\n",
       "    }\n",
       "\n",
       "    .dataframe thead th {\n",
       "        text-align: right;\n",
       "    }\n",
       "</style>\n",
       "<table border=\"1\" class=\"dataframe\">\n",
       "  <thead>\n",
       "    <tr style=\"text-align: right;\">\n",
       "      <th></th>\n",
       "      <th>product_name</th>\n",
       "      <th>total_quantity</th>\n",
       "      <th>total_amount</th>\n",
       "    </tr>\n",
       "  </thead>\n",
       "  <tbody>\n",
       "    <tr>\n",
       "      <th>0</th>\n",
       "      <td>60 teatime fairy cake cases</td>\n",
       "      <td>27584</td>\n",
       "      <td>13885.20</td>\n",
       "    </tr>\n",
       "    <tr>\n",
       "      <th>2</th>\n",
       "      <td>antique silver tea glass etched</td>\n",
       "      <td>17190</td>\n",
       "      <td>23522.85</td>\n",
       "    </tr>\n",
       "    <tr>\n",
       "      <th>30</th>\n",
       "      <td>moroccan tea glass</td>\n",
       "      <td>7218</td>\n",
       "      <td>5744.56</td>\n",
       "    </tr>\n",
       "    <tr>\n",
       "      <th>1</th>\n",
       "      <td>antique silver tea glass engraved</td>\n",
       "      <td>6941</td>\n",
       "      <td>8272.97</td>\n",
       "    </tr>\n",
       "    <tr>\n",
       "      <th>35</th>\n",
       "      <td>potting shed tea mug</td>\n",
       "      <td>6222</td>\n",
       "      <td>7456.26</td>\n",
       "    </tr>\n",
       "    <tr>\n",
       "      <th>...</th>\n",
       "      <td>...</td>\n",
       "      <td>...</td>\n",
       "      <td>...</td>\n",
       "    </tr>\n",
       "    <tr>\n",
       "      <th>17</th>\n",
       "      <td>english rose tea set in gift box</td>\n",
       "      <td>5</td>\n",
       "      <td>23.25</td>\n",
       "    </tr>\n",
       "    <tr>\n",
       "      <th>27</th>\n",
       "      <td>light topaz teal/aqua col necklace</td>\n",
       "      <td>4</td>\n",
       "      <td>20.36</td>\n",
       "    </tr>\n",
       "    <tr>\n",
       "      <th>10</th>\n",
       "      <td>ceramic cake teapot with cherry</td>\n",
       "      <td>3</td>\n",
       "      <td>13.45</td>\n",
       "    </tr>\n",
       "    <tr>\n",
       "      <th>13</th>\n",
       "      <td>dotcomgiftshop tea towel</td>\n",
       "      <td>2</td>\n",
       "      <td>6.72</td>\n",
       "    </tr>\n",
       "    <tr>\n",
       "      <th>81</th>\n",
       "      <td>teatime round cake tins</td>\n",
       "      <td>1</td>\n",
       "      <td>9.95</td>\n",
       "    </tr>\n",
       "  </tbody>\n",
       "</table>\n",
       "<p>87 rows × 3 columns</p>\n",
       "</div>"
      ],
      "text/plain": [
       "                          product_name  total_quantity  total_amount\n",
       "0          60 teatime fairy cake cases           27584      13885.20\n",
       "2      antique silver tea glass etched           17190      23522.85\n",
       "30                  moroccan tea glass            7218       5744.56\n",
       "1    antique silver tea glass engraved            6941       8272.97\n",
       "35                potting shed tea mug            6222       7456.26\n",
       "..                                 ...             ...           ...\n",
       "17    english rose tea set in gift box               5         23.25\n",
       "27  light topaz teal/aqua col necklace               4         20.36\n",
       "10     ceramic cake teapot with cherry               3         13.45\n",
       "13            dotcomgiftshop tea towel               2          6.72\n",
       "81             teatime round cake tins               1          9.95\n",
       "\n",
       "[87 rows x 3 columns]"
      ]
     },
     "execution_count": 35,
     "metadata": {},
     "output_type": "execute_result"
    }
   ],
   "source": [
    "# dengan 1 kolom sebagai grouping\n",
    "df_clean.loc[df_clean['product_name'].str.contains('tea')].groupby('product_name', as_index=False).agg(total_quantity=('quantity','sum'),total_amount=('amount','sum')).sort_values('total_quantity', ascending=False)"
   ]
  },
  {
   "cell_type": "code",
   "execution_count": 37,
   "id": "85fd2cbe-e64c-4647-b213-5c07827bb27b",
   "metadata": {
    "execution": {
     "iopub.execute_input": "2022-10-27T09:39:34.373628Z",
     "iopub.status.busy": "2022-10-27T09:39:34.369746Z",
     "iopub.status.idle": "2022-10-27T09:39:34.771916Z",
     "shell.execute_reply": "2022-10-27T09:39:34.770407Z",
     "shell.execute_reply.started": "2022-10-27T09:39:34.373581Z"
    },
    "tags": []
   },
   "outputs": [
    {
     "data": {
      "text/html": [
       "<div>\n",
       "<style scoped>\n",
       "    .dataframe tbody tr th:only-of-type {\n",
       "        vertical-align: middle;\n",
       "    }\n",
       "\n",
       "    .dataframe tbody tr th {\n",
       "        vertical-align: top;\n",
       "    }\n",
       "\n",
       "    .dataframe thead th {\n",
       "        text-align: right;\n",
       "    }\n",
       "</style>\n",
       "<table border=\"1\" class=\"dataframe\">\n",
       "  <thead>\n",
       "    <tr style=\"text-align: right;\">\n",
       "      <th></th>\n",
       "      <th>product_name</th>\n",
       "      <th>order_status</th>\n",
       "      <th>total_quantity</th>\n",
       "      <th>total_amount</th>\n",
       "    </tr>\n",
       "  </thead>\n",
       "  <tbody>\n",
       "    <tr>\n",
       "      <th>1</th>\n",
       "      <td>60 teatime fairy cake cases</td>\n",
       "      <td>delivered</td>\n",
       "      <td>27432</td>\n",
       "      <td>13806.15</td>\n",
       "    </tr>\n",
       "    <tr>\n",
       "      <th>5</th>\n",
       "      <td>antique silver tea glass etched</td>\n",
       "      <td>delivered</td>\n",
       "      <td>17083</td>\n",
       "      <td>23402.78</td>\n",
       "    </tr>\n",
       "    <tr>\n",
       "      <th>47</th>\n",
       "      <td>moroccan tea glass</td>\n",
       "      <td>delivered</td>\n",
       "      <td>7129</td>\n",
       "      <td>5669.51</td>\n",
       "    </tr>\n",
       "    <tr>\n",
       "      <th>3</th>\n",
       "      <td>antique silver tea glass engraved</td>\n",
       "      <td>delivered</td>\n",
       "      <td>6935</td>\n",
       "      <td>8265.47</td>\n",
       "    </tr>\n",
       "    <tr>\n",
       "      <th>55</th>\n",
       "      <td>potting shed tea mug</td>\n",
       "      <td>delivered</td>\n",
       "      <td>6113</td>\n",
       "      <td>7321.53</td>\n",
       "    </tr>\n",
       "    <tr>\n",
       "      <th>...</th>\n",
       "      <td>...</td>\n",
       "      <td>...</td>\n",
       "      <td>...</td>\n",
       "      <td>...</td>\n",
       "    </tr>\n",
       "    <tr>\n",
       "      <th>105</th>\n",
       "      <td>tea time mug in gift box</td>\n",
       "      <td>cancelled</td>\n",
       "      <td>1</td>\n",
       "      <td>2.95</td>\n",
       "    </tr>\n",
       "    <tr>\n",
       "      <th>97</th>\n",
       "      <td>tea time breakfast basket</td>\n",
       "      <td>cancelled</td>\n",
       "      <td>1</td>\n",
       "      <td>2.10</td>\n",
       "    </tr>\n",
       "    <tr>\n",
       "      <th>44</th>\n",
       "      <td>metal sign empire tea</td>\n",
       "      <td>cancelled</td>\n",
       "      <td>1</td>\n",
       "      <td>2.95</td>\n",
       "    </tr>\n",
       "    <tr>\n",
       "      <th>137</th>\n",
       "      <td>white tea,coffee,sugar jars</td>\n",
       "      <td>cancelled</td>\n",
       "      <td>1</td>\n",
       "      <td>6.35</td>\n",
       "    </tr>\n",
       "    <tr>\n",
       "      <th>68</th>\n",
       "      <td>set 2 tea towels i love london</td>\n",
       "      <td>cancelled</td>\n",
       "      <td>1</td>\n",
       "      <td>2.95</td>\n",
       "    </tr>\n",
       "  </tbody>\n",
       "</table>\n",
       "<p>139 rows × 4 columns</p>\n",
       "</div>"
      ],
      "text/plain": [
       "                          product_name order_status  total_quantity  \\\n",
       "1          60 teatime fairy cake cases    delivered           27432   \n",
       "5      antique silver tea glass etched    delivered           17083   \n",
       "47                  moroccan tea glass    delivered            7129   \n",
       "3    antique silver tea glass engraved    delivered            6935   \n",
       "55                potting shed tea mug    delivered            6113   \n",
       "..                                 ...          ...             ...   \n",
       "105           tea time mug in gift box    cancelled               1   \n",
       "97           tea time breakfast basket    cancelled               1   \n",
       "44               metal sign empire tea    cancelled               1   \n",
       "137        white tea,coffee,sugar jars    cancelled               1   \n",
       "68      set 2 tea towels i love london    cancelled               1   \n",
       "\n",
       "     total_amount  \n",
       "1        13806.15  \n",
       "5        23402.78  \n",
       "47        5669.51  \n",
       "3         8265.47  \n",
       "55        7321.53  \n",
       "..            ...  \n",
       "105          2.95  \n",
       "97           2.10  \n",
       "44           2.95  \n",
       "137          6.35  \n",
       "68           2.95  \n",
       "\n",
       "[139 rows x 4 columns]"
      ]
     },
     "execution_count": 37,
     "metadata": {},
     "output_type": "execute_result"
    }
   ],
   "source": [
    "# dengan lebih dari 1 kolom sebagai grouping\n",
    "df_clean.loc[df_clean['product_name'].str.contains('tea')].groupby(['product_name','order_status'], as_index=False).agg(total_quantity=('quantity','sum'),total_amount=('amount','sum')).sort_values('total_quantity', ascending=False)"
   ]
  },
  {
   "cell_type": "code",
   "execution_count": null,
   "id": "7185cb50-97c2-46b0-ba86-dd17167867a6",
   "metadata": {},
   "outputs": [],
   "source": []
  }
 ],
 "metadata": {
  "kernelspec": {
   "display_name": "Python 3 (ipykernel)",
   "language": "python",
   "name": "python3"
  },
  "language_info": {
   "codemirror_mode": {
    "name": "ipython",
    "version": 3
   },
   "file_extension": ".py",
   "mimetype": "text/x-python",
   "name": "python",
   "nbconvert_exporter": "python",
   "pygments_lexer": "ipython3",
   "version": "3.9.12"
  },
  "toc": {
   "base_numbering": 1,
   "nav_menu": {},
   "number_sections": true,
   "sideBar": true,
   "skip_h1_title": false,
   "title_cell": "Table of Contents",
   "title_sidebar": "Contents",
   "toc_cell": false,
   "toc_position": {},
   "toc_section_display": true,
   "toc_window_display": true
  }
 },
 "nbformat": 4,
 "nbformat_minor": 5
}
